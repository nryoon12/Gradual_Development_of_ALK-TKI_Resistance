{
 "cells": [
  {
   "cell_type": "markdown",
   "metadata": {},
   "source": [
    "$\\large{\\textbf{Packages}}$"
   ]
  },
  {
   "cell_type": "code",
   "execution_count": 1,
   "metadata": {},
   "outputs": [],
   "source": [
    "from __future__ import division, print_function\n",
    "import numpy as np\n",
    "import math\n",
    "from scipy.stats import truncnorm\n",
    "from copy import deepcopy\n",
    "import matplotlib.pyplot as plt\n",
    "import matplotlib.gridspec as gridspec\n",
    "from matplotlib import colors\n",
    "import pickle\n",
    "import pandas as pd\n",
    "import seaborn as sns\n",
    "import time"
   ]
  },
  {
   "cell_type": "markdown",
   "metadata": {},
   "source": [
    "$\\large{\\textbf{Data}}$"
   ]
  },
  {
   "cell_type": "code",
   "execution_count": 3,
   "metadata": {},
   "outputs": [],
   "source": [
    "###############################################\n",
    "#experimental data; crizotinib and lorlatinib #\n",
    "###############################################\n",
    "\n",
    "#data = pd.read_excel(open('/Users/nara/Dropbox/Cancer/ALK-TKI/Gradual_Development_of_ALK-TKI_Resistance/GradualColonies.xlsx','rb'), sheetname='Sheet1',index_col=False)\n",
    "data = pd.read_excel(open('GradualColonies.xlsx','rb'), sheetname='Sheet1',index_col=False)\n",
    "criz_data=np.array([data[name][1:] for name in [\"Crizotinib\",\"Unnamed: 1\",\"Unnamed: 2\",\"Unnamed: 3\",\"Unnamed: 4\"]])\n",
    "lorl_data=np.array([data[name][1:] for name in [\"Lorlatinib\",\"Unnamed: 7\",\"Unnamed: 8\",\"Unnamed: 9\",\"Unnamed: 10\"]])\n",
    "\n",
    "criz_ref_data = [[round(a) for a in data[np.where(data>0)]/200] for data in criz_data]\n",
    "lorl_ref_data = [[round(a) for a in data[np.where(data>0)]/200] for data in lorl_data]"
   ]
  },
  {
   "cell_type": "code",
   "execution_count": 4,
   "metadata": {},
   "outputs": [
    {
     "data": {
      "image/png": "[encoded data removed]",
      "text/plain": [
       "<matplotlib.figure.Figure at 0x1a0e48fc88>"
      ]
     },
     "metadata": {},
     "output_type": "display_data"
    }
   ],
   "source": [
    "#########################################\n",
    "# data visualization; 2-legend barchart #\n",
    "#########################################\n",
    "\n",
    "def swarm_xyz(dataZ, ticksX, ticksY, labels=[\"x\",\"y\",\"z\"]\n",
    "             , zrange=False, logZ=True\n",
    "             , save=False, filename=\"save\"):\n",
    "\n",
    "    i, j = len(dataZ), len(dataZ[0])\n",
    "    if len(ticksX)!=i or len(ticksY)!=j:\n",
    "        print(\"data dimention is inconsistent\")\n",
    "\n",
    "    else:\n",
    "        df = pd.DataFrame()\n",
    "        \n",
    "        x_list, y_list, z_list = [], [], []\n",
    "        for ii in range(i):\n",
    "            for jj in range(j):\n",
    "                x_list.extend([ticksX[ii]]*len(dataZ[ii][jj]))\n",
    "                y_list.extend([ticksY[jj]]*len(dataZ[ii][jj]))\n",
    "                z_list.extend(dataZ[ii][jj])\n",
    "        \n",
    "        df[labels[0]] = x_list\n",
    "        df[labels[1]] = y_list\n",
    "        df[labels[2]] = z_list\n",
    "        \n",
    "        sns.set(style=\"ticks\")\n",
    "        sns.boxplot(x=labels[1], y=labels[2], hue=labels[0], data=df, dodge=True\n",
    "                     )\n",
    "        sns.despine(offset=10, trim=True)\n",
    "        if logZ:\n",
    "            plt.yscale('log')\n",
    "        if zrange:\n",
    "            plt.ylim(zrange[0], zrange[1])\n",
    "        if save:\n",
    "            plt.savefig(save+'.png' ,  bbox_inches='tight' , dpi=400)\n",
    "        plt.show()\n",
    "        \n",
    "swarm_xyz([criz_ref_data, lorl_ref_data], [\"criz\",\"lorl\"], [\"wk0\",\"wk1\",\"wk2\",\"wk3\",\"res\"], \n",
    "          labels=[\"Drug\",\"week\",\"population\"], zrange=[4, 220], logZ=True)"
   ]
  },
  {
   "cell_type": "markdown",
   "metadata": {},
   "source": [
    "$\\large{\\textbf{Functions}}$"
   ]
  },
  {
   "cell_type": "code",
   "execution_count": 33,
   "metadata": {},
   "outputs": [],
   "source": [
    "####################################################################################\n",
    "# Cellular Automaton model (CA); updating all the existing cells to next time step #\n",
    "####################################################################################\n",
    "\n",
    "def div(grid # n-by-n array filled with 0 (empty space) and 1 (taken by a cell)\n",
    "        , div_rate # n-by-n array indicating division rates for existing cells and 0 for empty spots\n",
    "        , step # n-by-n array indicating mutation status (an integer in [0,n_step]) for existing cells and 0 for empty spots\n",
    "        , mu_rate # mutation rates\n",
    "        , div_range=[0.1, 0.9] # range of division rates [d0,d1]\n",
    "        , death_rate=0.01 #death rate\n",
    "        , n_step=1 # number of steps required to reach from d0 to d1\n",
    "        , rand_div_inc=3 # degree of randomness in division rate increase\n",
    "       ):\n",
    "\n",
    "    cell_list = np.nonzero( grid==1 ) # positions of existing cells on \"grid\"\n",
    "    \n",
    "    div_step = (div_range[1]-div_range[0])/n_step # increase in division rate per mutation\n",
    "    N = len( cell_list[0] ) # number of existing cells\n",
    "    indices = np.arange( N ) # indices of the N cells\n",
    "    rand_indices = np.random.permutation( indices ) # random suffling of the indices \n",
    "\n",
    "    for cnum in rand_indices:\n",
    "        row = cell_list[0][cnum]\n",
    "        col = cell_list[1][cnum]\n",
    "\n",
    "        rand = np.random.rand()\n",
    "        if rand < death_rate: # if 'yes', the cell dies. \n",
    "            grid[row, col] = 0 \n",
    "            div_rate[row, col] = 0.\n",
    "            step[row, col] = 0 \n",
    "            \n",
    "        elif (rand-death_rate) < div_rate[row,col]: # else if 'yes', it can divide.\n",
    "            search_grid = deepcopy(grid)                           \n",
    "            search_grid[row, col] = 2\n",
    "\n",
    "            empty = np.nonzero( search_grid[ max(row-1,0) : min(row+2,len(grid)) , max(col-1,0) : min(col+2,len(grid)) ]==0 )\n",
    "            org_ind = np.nonzero( search_grid[ max(row-1,0) : min(row+2,len(grid)) , max(col-1,0) : min(col+2,len(grid)) ]==2 )\n",
    "\n",
    "            empty2 = np.nonzero( search_grid[ max(row-2,0) : min(row+3,len(grid)) , max(col-2,0) : min(col+3,len(grid)) ]==0 )\n",
    "            org_ind2 = np.nonzero( search_grid[ max(row-2,0) : min(row+3,len(grid)) , max(col-2,0) : min(col+3,len(grid)) ]==2 )\n",
    "\n",
    "            if len( empty[0] ) > 0:  # if 'yes' (if there is an exmpty neighboring spot), it will divide to the spot.\n",
    "                rand = np.random.randint( len(empty[0]) )\n",
    "                nhb_ind = [empty[0][rand], empty[1][rand]]\n",
    "\n",
    "                row_new, col_new = row+nhb_ind[0]-org_ind[0], col+nhb_ind[1]-org_ind[1]\n",
    "                grid[row_new, col_new] = 1\n",
    "\n",
    "                rand = np.random.rand()\n",
    "                if step[row, col] < n_step and rand < mu_rate: # if 'yes', mutation will occur during the division.\n",
    "                    rand_inc = (truncnorm.rvs(-rand_div_inc, rand_div_inc, size=2)/rand_div_inc*2 + 1) * div_step\n",
    "#                    rand_inc = (truncnorm.rvs(-rand_div_inc, rand_div_inc, size=2)/rand_div_inc + 1) * div_step\n",
    "#                    div_new = np.clip(div_rate[row,col]+rand_inc, div_range[0], div_range[1])\n",
    "\n",
    "                    div_new = [np.clip(div_rate[row,col]+div_step, div_range[0], div_range[1])] * 2\n",
    "                    \n",
    "                    div_rate[row, col], div_rate[row_new, col_new] = div_new\n",
    "                    \n",
    "                    step[row_new, col_new] = step[row, col] + 1\n",
    "                    step[row, col] += 1\n",
    "                else: # else, no mutation will occur.\n",
    "                    div_rate[row_new, col_new] = div_rate[row, col] \n",
    "                    step[row_new, col_new] = step[ row , col ]\n",
    "                    \n",
    "            elif len( empty2[0] ) > 0: # else if there is an exmpty spot right beyond neighborhood, it will push and divide to the spot.\n",
    "                rand = np.random.randint( len(empty2[0]) )\n",
    "                nhb_ind = [empty2[0][rand], empty2[1][rand]]\n",
    "\n",
    "                row_new, col_new = row+nhb_ind[0]-org_ind2[0], col+nhb_ind[1]-org_ind2[1]\n",
    "                row_push, col_push = np.clip(row_new, row-1, row+1), np.clip(col_new, col-1, col+1)\n",
    "                grid[row_new, col_new] = 1\n",
    "                \n",
    "                rand = np.random.rand()\n",
    "                if step[row, col] < n_step and rand < mu_rate: # if 'yes', mutation will occur during the division.\n",
    "#                    rand_inc = (truncnorm.rvs(-rand_div_inc, rand_div_inc, size=2)/rand_div_inc*2 + 1) * div_step\n",
    "#                    rand_inc = (truncnorm.rvs(-rand_div_inc, rand_div_inc, size=2)/rand_div_inc + 1) * div_step\n",
    "#                    div_new = np.clip(div_rate[row,col]+rand_inc, div_range[0], div_range[1])\n",
    "\n",
    "                    div_new = [np.clip(div_rate[row,col]+div_step, div_range[0], div_range[1])] * 2\n",
    "\n",
    "                    div_rate[row_new, col_new] = div_rate[row_push, col_push]                    \n",
    "                    div_rate[row, col], div_rate[row_push, col_push] = div_new\n",
    "                    \n",
    "                    step[row_new, col_new] = step[row_push, col_push]\n",
    "                    step[row_push, col_push] = step[row, col] + 1\n",
    "                    step[row, col] += 1\n",
    "                else: # else, no mutation will occur.\n",
    "                    div_rate[row_new, col_new] = div_rate[row_push, col_push]                    \n",
    "                    div_rate[row_push, col_push] = div_rate[row,col] \n",
    "                    \n",
    "                    step[row_new, col_new] = step[row_push, col_push]\n",
    "                    step[row_push, col_push] = step[row, col]\n",
    "\n",
    "    return grid.copy(), div_rate.copy(), step.copy()"
   ]
  },
  {
   "cell_type": "code",
   "execution_count": 6,
   "metadata": {},
   "outputs": [],
   "source": [
    "#####################################################################################################\n",
    "# CA; simulation of cell culture over 'grid_size'-by-'grid_size' grid as long as 'n_gen' time steps #\n",
    "#####################################################################################################\n",
    "\n",
    "def run_automaton( grid_size=100 # grid shape: square grid of 'grid_size' by 'grid_size'\n",
    "                  , n_gen=100 # number of time steps to run\n",
    "                  , n_snap=6 # number of time points at which simulation is recorded \n",
    "                  , mu_rate=0.1 # (same to the input of function(s) above)\n",
    "                  , div_range=[0.1, 0.9] # (same to the input of function(s) above)\n",
    "                  , death_rate=0.01 # death rate\n",
    "                  , n_step=8 # (same to the input of function(s) above)\n",
    "                  , rand_div_inc=3 # degree of randomness in division rate increase\n",
    "                  , ini_div=0.1 # division rate at the initiation of the simulation\n",
    "                  , ini_step=0 # step of mutation at the initiation of the simulation\n",
    "                 ): \n",
    "    \n",
    "    # initiation of grid\n",
    "    grid = np.zeros( [ grid_size , grid_size ] )\n",
    "    center = int( grid_size / 2 )\n",
    "    grid[center, center] = 1\n",
    "    \n",
    "    div_rate = deepcopy(ini_div*grid)\n",
    "    step = deepcopy(ini_step*grid)\n",
    "\n",
    "    microenv_list = [ deepcopy([0, grid, div_rate, step]) ]\n",
    "    \n",
    "    # generate a sequence of time points to record\n",
    "    if n_snap is not None:\n",
    "        mfig = np.int_( np.linspace(0, n_gen, n_snap, endpoint=True) )\n",
    "    else:\n",
    "        mfig = []\n",
    "\n",
    "    # run CA simulation\n",
    "    for gen in range(1, n_gen+1):\n",
    "        grid, div_rate, step = div( grid=grid , div_rate=div_rate , step=step , mu_rate=mu_rate, div_range=div_range\n",
    "                             , death_rate=death_rate, n_step=n_step, rand_div_inc=rand_div_inc)\n",
    "            \n",
    "        # save simulation\n",
    "        if gen in mfig:\n",
    "            microenv_list.append( deepcopy([gen, grid, div_rate, step]) )\n",
    "    \n",
    "    return deepcopy(microenv_list)"
   ]
  },
  {
   "cell_type": "code",
   "execution_count": 7,
   "metadata": {},
   "outputs": [],
   "source": [
    "#################################################################################\n",
    "# run multiple CA simulations as many as \"n_sim\" per each evolutionary scenario #\n",
    "#################################################################################\n",
    "\n",
    "def run_multiple( n_sim=10000 # number of simulations for each evolutionary scenario \n",
    "                 , grid_size=100 # (same to the input of function(s) above)\n",
    "                 , n_gen=100 # (same to the input of function(s) above)\n",
    "                 , n_snap=6 # (same to the input of function(s) above)\n",
    "                 , mu_prob=[0.008, 0.08, 0.8] # three different evolutionary scenarios represented by different mutation rates\n",
    "                 , div_low=0.3 # lower limites of division rate (fixed)\n",
    "                 , div_up=[0.5,0.7] # possible options of upper limit of division rates \n",
    "                 , death_rate=0.01 # death rate\n",
    "                 , n_steps=[1, 10, 100] # corresponding number of steps for the three scenarios \n",
    "                 , rand_div_inc=3 # degree of randomness in division rate increase\n",
    "                 , pickling=False , picklename=\"save\" # save simulation results\n",
    "                 , ini_div = 0.1 # (same to the input of function(s) above)\n",
    "                 , ini_step = 0 # (same to the input of function(s) above)\n",
    "                ): \n",
    "\n",
    "    # (start here)initiation of data including cells occupying\"grid\"  \"division rates\"\n",
    "    microenv_lists = [[[] for i in range(len(mu_prob))] for j in range(n_sim)]\n",
    "    \n",
    "    # iteration for all the scenarios\n",
    "    for j in range(len(mu_prob)):\n",
    "        # iteration for the \"n_sim\" replicates\n",
    "        for i in range(n_sim):\n",
    "            microenv_lists[i][j] = run_automaton( grid_size=grid_size , n_gen=n_gen , n_snap=n_snap\n",
    "                                                   , mu_rate=mu_prob[j], div_range=[div_low, div_up[i]]\n",
    "                                                   , death_rate=death_rate, n_step=n_steps[j], rand_div_inc=rand_div_inc \n",
    "                                                   , ini_div = ini_div, ini_step = ini_step)\n",
    "    # save (no not)\n",
    "    if pickling:\n",
    "        pickle.dump( [div_up, microenv_lists], open( picklename + \".p\", \"wb\" ) )\n",
    "        \n",
    "    return deepcopy([div_up, microenv_lists])"
   ]
  },
  {
   "cell_type": "code",
   "execution_count": 8,
   "metadata": {},
   "outputs": [],
   "source": [
    "###########################################################\n",
    "# clonogenic assay with cells of 1-, 2-, 3-week exposures #\n",
    "###########################################################\n",
    "\n",
    "def sim_3wk_clonogenic_assay(mu_prob # (same to the input of function(s) above)\n",
    "                             , n_steps # (same to the input of function(s) above) \n",
    "                             , div_low=0.13 # (same to the input of function(s) above)\n",
    "                             , div_up=0.5 # (same to the input of function(s) above)\n",
    "                             , death_rate=0.01 # death rate\n",
    "                             , rand_div_inc=3 # degree of randomness in division rate increase\n",
    "                             , exp_data=criz_ref_data[1:4] # reference data to be compared with the simulation results\n",
    "                             , n_sim=100000 # (same to the input of function(s) above)\n",
    "                             , saving=False, savename=\"name\" # (same to the input of function(s) above)\n",
    "                            ):\n",
    "    n_gen = 3*9 # CA simulation over 9 time points for each of 3 weeks\n",
    "    n_snap = 4\n",
    "    \n",
    "    # CA simulation\n",
    "    microenv_list_all = run_multiple( n_sim=n_sim , grid_size=grid_size , n_gen=n_gen , n_snap=n_snap\n",
    "                , mu_prob=mu_prob, div_low=div_low, div_up=div_up\n",
    "                , death_rate=death_rate, n_steps=n_steps, rand_div_inc=rand_div_inc, pickling=False , picklename=\"save\"\n",
    "                , ini_div = div_low, ini_step = 0)\n",
    "    \n",
    "    n_gen = 9 # CA simulation over 9 time steps for a week of clonogenic assay\n",
    "    n_snap = 2 \n",
    "    dt = [[[0 for k in range(n_sim)] for i in range(3)] for j in range(len(mu_prob))]\n",
    "    for i in range(n_sim):\n",
    "        for j in range(len(mu_prob)):\n",
    "            for k in range(1,4):\n",
    "                grid, div_rate, step = microenv_list_all[1][i][j][k][1:]\n",
    "                ind_old = np.where(grid!=0)\n",
    "                if len(ind_old[0])>0:\n",
    "                    rand_ind = np.random.choice(len(ind_old[0]))\n",
    "                    ind = ind_old[0][rand_ind], ind_old[1][rand_ind]\n",
    "                    result_list = run_automaton( grid_size=grid_size , n_gen=n_gen , n_snap=n_snap\n",
    "                     , mu_rate=mu_prob[j], div_range=[div_low, div_up[i]]\n",
    "                     , death_rate=death_rate, n_step=n_steps[j], rand_div_inc=rand_div_inc \n",
    "                     , ini_div=div_rate[ind], ini_step=step[ind])\n",
    "                    dt[j][k-1][i] = np.sum(result_list[-1][1])\n",
    "                else:\n",
    "                    dt[j][k-1][i] = 0\n",
    "                    \n",
    "\n",
    "    #Comparison between reference data (\"exp_data\") and simulation results with KL divergence\n",
    "    dt = dt+[exp_data]\n",
    "    kl_list = [[0 for j in range(3)] for i in range(len(mu_prob))]\n",
    "    for i in range(len(mu_prob)):\n",
    "        for j in range(3):\n",
    "#            kl_list[i][j] = kl_mean(dt[i][j],exp_data[j], low=5, n=50000)\n",
    "            kl_list[i][j] = kl(exp_data[j], dt[i][j])\n",
    "\n",
    "    if saving:\n",
    "        df = pd.DataFrame()\n",
    "        ticksX=n_steps\n",
    "        ticksY=[1,2,3]\n",
    "        x_list, y_list, z_list = [], [], []\n",
    "        for ii in range(len(mu_prob)):\n",
    "            for jj in range(3):\n",
    "                x_list.extend([ticksX[ii]]*n_sim)\n",
    "                y_list.extend([ticksY[jj]]*n_sim)\n",
    "                z_list.extend(dt[ii][jj])\n",
    "        df[\"n_step\"] = x_list\n",
    "        df[\"week\"] = y_list\n",
    "        df[\"population\"] = z_list\n",
    "        \n",
    "        writer = pd.ExcelWriter( savename + '.xlsx', engine='xlsxwriter')\n",
    "        df.to_excel(writer, sheet_name='Sheet1')\n",
    "\n",
    "    return kl_list"
   ]
  },
  {
   "cell_type": "code",
   "execution_count": 9,
   "metadata": {},
   "outputs": [],
   "source": [
    "#############################################################################\n",
    "# comparison between two distributions based on kullback leibler divergence #\n",
    "#############################################################################\n",
    "\n",
    "def kl(p, q, low=0, n_bin=10):\n",
    "    p, q = np.array(p), np.array(q)\n",
    "    p, q = p[np.where(p>=low)], q[np.where(q>=low)]\n",
    "    \n",
    "    m, M = [min(p), max(p)]\n",
    "    bin_wt = (M-m)/(n_bin-1)\n",
    "    bin_ends = np.arange(m,M+2*bin_wt,bin_wt)\n",
    "    \n",
    "    p, q = np.clip(p, m, M), np.clip(q, m, M)\n",
    "    \n",
    "    p_hist, bin_edges = np.histogram(p, bins=bin_ends, density=True)\n",
    "    q_hist, bin_edges = np.histogram(q, bins=bin_ends, density=True)\n",
    "    p_hist, q_hist = np.clip([p_hist, q_hist], 10**(-10), math.inf)\n",
    "\n",
    "    return np.mean(p_hist*np.log10(p_hist / q_hist))"
   ]
  },
  {
   "cell_type": "markdown",
   "metadata": {},
   "source": [
    "$\\large{\\textbf{Estimation of the upper level of division rates (d1)}}$"
   ]
  },
  {
   "cell_type": "code",
   "execution_count": 11,
   "metadata": {},
   "outputs": [],
   "source": [
    "t_fin = 9\n",
    "n_sim = 100000\n",
    "grid_size = 20\n",
    "i_time = 9\n",
    "rand_div_inc = 3"
   ]
  },
  {
   "cell_type": "code",
   "execution_count": 12,
   "metadata": {},
   "outputs": [],
   "source": [
    "# relationship between (i) (fixed) division rate and (ii) expected colony size\n",
    "div_rates = np.arange(0.01,1.,0.01) # discrete values of division rate\n",
    "#death_rate=0.\n",
    "death_rate=0.01\n",
    "\n",
    "pop_fin = []\n",
    "#simulation to generate multiple, random colony sizes after 1-week-long clonogenic assay \n",
    "for div_rate in div_rates:\n",
    "    pop_stoch_hist = []\n",
    "    for i in range(500):\n",
    "        microenv_list = run_automaton(grid_size=grid_size, n_gen=t_fin, n_snap=2\n",
    "                , mu_rate=0.0, div_range=[div_rate, div_rate]\n",
    "                , death_rate=death_rate, n_step=1, rand_div_inc=rand_div_inc\n",
    "                , ini_div=div_rate, ini_step=0)\n",
    "        pop_stoch_hist.append(np.sum(microenv_list[-1][1]))\n",
    "        \n",
    "    # 0%, 25%, 50% (median), 75%, 100% quantiles of the distribution of colony sizes\n",
    "    pop_fin.append(np.percentile(np.array(pop_stoch_hist),[0,25,50,75,100]))"
   ]
  },
  {
   "cell_type": "code",
   "execution_count": 55,
   "metadata": {},
   "outputs": [
    {
     "data": {
      "image/png": "[encoded data removed]",
      "text/plain": [
       "<matplotlib.figure.Figure at 0x1a0e5ca3c8>"
      ]
     },
     "metadata": {},
     "output_type": "display_data"
    }
   ],
   "source": [
    "# graph\n",
    "plt.plot(div_rates,pop_fin,'k--',linewidth=1)\n",
    "plt.plot(div_rates,[a[2] for a in pop_fin],'b',linewidth=2)\n",
    "plt.xlabel('Division rate')\n",
    "plt.ylabel('Final population')\n",
    "#plt.savefig('d1_fun.eps' ,  bbox_inches='tight' , format='eps', dpi=400)\n",
    "#plt.savefig('d1_fun.png' ,  bbox_inches='tight' , dpi=400)\n",
    "plt.show()"
   ]
  },
  {
   "cell_type": "code",
   "execution_count": 56,
   "metadata": {},
   "outputs": [],
   "source": [
    "# Estimation of d1, based on the relationship and the experimental colony size data of \"resistant cell\" (\"criz_ref_data\" and \"lorl_ref_data\") \n",
    "criz_d1, lorl_d1 = [[np.interp(a, [a[2] for a in pop_fin], div_rates) for a in dt]\n",
    "                                      for dt in [criz_ref_data[-1], lorl_ref_data[-1]]]"
   ]
  },
  {
   "cell_type": "markdown",
   "metadata": {},
   "source": [
    "$\\large{\\textbf{Clonogenic assay simulations (crizotinib)}}$"
   ]
  },
  {
   "cell_type": "code",
   "execution_count": 37,
   "metadata": {},
   "outputs": [],
   "source": [
    "# model parameters\n",
    "n_sim = 100000\n",
    "#n_sim = 10\n",
    "n_gen = i_time\n",
    "n_snap = 2\n",
    "div_low_median=0.13 # for crizotinib\n",
    "div_up=np.random.choice(criz_d1,n_sim) # for crizotinib\n",
    "#death_rate=0.\n",
    "death_rate=0.01\n",
    "rand_div_inc=3\n",
    "n_steps = [1,3,10,30,100,200,300] # 7 different evolution steps\n",
    "mu1_list = [0., 0.0001, 0.0003, 0.001, 0.003, 0.01, 0.03, 0.1, 0.3, 1.]\n",
    "file_name = [\"0\",\"p0001\",\"p0003\",\"p001\",\"p003\",\"p01\",\"p03\",\"p1\",\"p3\",\"1\"]"
   ]
  },
  {
   "cell_type": "code",
   "execution_count": 38,
   "metadata": {},
   "outputs": [],
   "source": [
    "#KL evaluations over ranges of \"mu1\" and \"n_step\"\n",
    "kl_list_criz = []\n",
    "\n",
    "for ii, mu1 in enumerate(mu1_list):\n",
    "    mu_prob = np.clip([mu1*a for a in n_steps],0,1)\n",
    "    kl_list_criz.append([sim_3wk_clonogenic_assay([mu_prob[jj]], [n_steps[jj]]\n",
    "        , div_low=div_low_median, div_up=div_up, death_rate=death_rate, exp_data=lorl_ref_data[1:4], n_sim=n_sim\n",
    "        , saving=False, savename=\"pop\"+file_name[ii]+\"and\"+str(n_steps[jj]))[0] \n",
    "                    for jj in range(7)])"
   ]
  },
  {
   "cell_type": "code",
   "execution_count": 39,
   "metadata": {},
   "outputs": [
    {
     "name": "stdout",
     "output_type": "stream",
     "text": [
      "[[[0.035077258956298603, 0.020972222861508898, 0.014922770718008505], [0.034878506075580198, 0.020980224702956681, 0.015087175645552587], [0.034963885678995971, 0.020458886758293861, 0.01507588383127015], [0.035321537062950221, 0.020339138048025073, 0.015162601409396822], [0.035144810701960932, 0.020608702759522292, 0.015400948795324125], [0.034890549865198066, 0.020555593609138344, 0.015035145176727511], [0.034939279010917944, 0.020328856117372136, 0.015152267305136136]], [[0.034524167412830521, 0.020226124194175656, 0.010079822176130028], [0.034709364789891971, 0.020224355536737206, 0.013787385539386417], [0.035439801599004485, 0.020302325893190708, 0.01390406915928219], [0.03504632696615053, 0.020426469853183186, 0.015141304817077438], [0.034913988998007739, 0.020132514046518758, 0.015436766244014037], [0.03508469245682292, 0.020574533260567539, 0.01492481855908], [0.0348965918672842, 0.020480010683846417, 0.015184263383859919]], [[0.034683655605143901, 0.020280701601197187, 0.0095042211568023855], [0.034736060200895744, 0.020039074618780905, 0.010864961311744777], [0.034745790717813467, 0.020256949674303488, 0.013839429663727797], [0.034925212599255379, 0.020092050779135603, 0.015119515525554617], [0.034688327101284812, 0.019990299873618798, 0.015023773775620591], [0.034758392124168397, 0.020625549047912774, 0.014976920082629517], [0.035083627595040939, 0.020590134566484834, 0.015019639923207167]], [[0.034773471467463915, 0.019779001587344587, 0.0078755833178362333], [0.034389212619014078, 0.019938952301463933, 0.009753734558093561], [0.034408337609381785, 0.019989684774000802, 0.01322291832554176], [0.035149119185874309, 0.020159110441742994, 0.014867630079438395], [0.034664117108548401, 0.019769787228429269, 0.013510106350967584], [0.034506661917496323, 0.020391617418060545, 0.015036924485424819], [0.034105055735715359, 0.020158138305481209, 0.015154836848194998]], [[0.034220457391468513, 0.019135580694308887, 0.0064821331098167227], [0.034598515194625548, 0.018759753930771943, 0.0073831596886221205], [0.033804466137915205, 0.018799927422154725, 0.01379835999470317], [0.03388545757786135, 0.018919973667875973, 0.014409658261792897], [0.034244736975281499, 0.019369927268104135, 0.01445963035951936], [0.034108166959130985, 0.018860670790034562, 0.012996396774646939], [0.033752780693859424, 0.018945413570659878, 0.014538515543268371]], [[0.033683631229238536, 0.018108270986991724, 0.0044401355098339099], [0.032343775232014309, 0.015891203770483222, 0.0044645426203356814], [0.031724554259190324, 0.015600351346032246, 0.0070651739510514842], [0.032059137878298977, 0.01567762825830683, 0.0085422075368467732], [0.032089130072488495, 0.015935231243351798, 0.010978300763238727], [0.033491533458442871, 0.018070086413271076, 0.013896132087561318], [0.033709510975869543, 0.019010227602990336, 0.0141031490563036]], [[0.033328156382802843, 0.017030277453941339, 0.002502273832575716], [0.029426096916319703, 0.01226151265242913, 0.0018358958207924205], [0.028273128620545998, 0.010457319847064491, 0.0021712856527845666], [0.027977390420824279, 0.0099347236108172157, 0.0028740041990943568], [0.032032111293858835, 0.015947559881917279, 0.0091364372551015118], [0.033393466198870923, 0.018151597659203156, 0.013551891771450891], [0.034213082146869696, 0.018894141446741564, 0.01284275083183764]], [[0.034094391305407062, 0.017539627710557334, 0.0016169373209480658], [0.028606484051921312, 0.015336812251975853, 0.0014546993437320847], [0.024708625782970454, 0.014636986892672848, 0.001629032395296901], [0.027199795904520551, 0.0095550229691082154, 0.0023377997035840541], [0.031901463622234276, 0.016268223776443502, 0.010871840934911454], [0.033352368644539832, 0.018425266640938662, 0.013927049510648553], [0.033775393671933517, 0.018887824851430431, 0.014100055340232337]], [[0.037003602274829565, 0.023030284068713977, 0.0021710466272463445], [0.038784476976248441, 0.027859799256330149, 0.0025416859288259516], [0.024878405501346786, 0.01443956371811308, 0.0016218228662870039], [0.027198115757189209, 0.0094070241496358713, 0.0023184587591531906], [0.031872044343886421, 0.015879333352571239, 0.010916090069025006], [0.03363237691190963, 0.018229313992505179, 0.01243090130379566], [0.033857448657475073, 0.018873543907508335, 0.014580829952284531]], [[0.046295664577610279, 0.030581664339968857, 0.0026641139193389323], [0.040640682302750412, 0.028661404174724198, 0.0026125786021037266], [0.024771016395029918, 0.014701203921719905, 0.0016505270652610647], [0.027224636133375325, 0.0094967633336837422, 0.0023280548196209093], [0.032046207675765361, 0.015979020722639903, 0.011032971904896103], [0.033179386102994757, 0.018171310704963334, 0.012522581038246905], [0.034069302330142617, 0.019098180243599695, 0.014066019257431818]]]\n"
     ]
    }
   ],
   "source": [
    "print(kl_list_criz)"
   ]
  },
  {
   "cell_type": "code",
   "execution_count": 78,
   "metadata": {},
   "outputs": [
    {
     "data": {
      "image/png": "[encoded data removed]",
      "text/plain": [
       "<matplotlib.figure.Figure at 0x1a172f2a20>"
      ]
     },
     "metadata": {},
     "output_type": "display_data"
    }
   ],
   "source": [
    "# figure\n",
    "kl_list = np.transpose(kl_list_criz)\n",
    "vmin, vmax = .02, .07\n",
    "fig, axes = plt.subplots(2,2)\n",
    "axes[0,0].imshow(np.transpose(kl_list[0])[::-1], vmin=vmin, vmax=vmax, cmap='Reds')\n",
    "\n",
    "axes[0,1].imshow(np.transpose(kl_list[1])[::-1], vmin=vmin, vmax=vmax, cmap='Reds')\n",
    "\n",
    "axes[1,0].imshow(np.transpose(kl_list[2])[::-1], vmin=vmin, vmax=vmax, cmap='Reds')\n",
    "\n",
    "im = axes[1,1].imshow(np.transpose(kl_list[0]+kl_list[1]+kl_list[2])[::-1], vmin=vmin, vmax=vmax, cmap='Reds')\n",
    "\n",
    "[(a.set_xticks(np.arange(7)),\n",
    "  a.set_yticks(np.arange(10)),\n",
    "  a.set_xticklabels([\"  1\",\"  3\",\" 10\",\" 30\",\" 100\",\" 200\",\" 300\"], fontsize=7),\n",
    "  a.set_yticklabels([\"1\",\"0.3\",\"0.1\",\"0.03\",\"0.01\",\"0.003\",\"0.001\",\"0.0003\",\"0.0001\",\"0\"], fontsize=7),\n",
    "  plt.setp(a.get_xticklabels(), rotation=90, ha=\"right\", rotation_mode=\"anchor\"), \n",
    "  a.set_xlabel(\"n_step\"), \n",
    "  a.set_ylabel(\"mu_1\")) for a in [axes[0,0],axes[0,1],axes[1,0],axes[1,1]]]\n",
    "\n",
    "axes[0,0].set_title(\"Week 1\")\n",
    "axes[0,1].set_title(\"Week 2\")\n",
    "axes[1,0].set_title(\"Week 3\")\n",
    "axes[1,1].set_title(\"All weeks\")\n",
    "\n",
    "fig.tight_layout()\n",
    "\n",
    "fig.colorbar(im, ax=axes.ravel().tolist(), shrink=0.5)\n",
    "\n",
    "#plt.savefig('criz_heatmap.eps' ,  bbox_inches='tight' , format='eps', dpi=400)\n",
    "plt.savefig('criz_heatmap.png' ,  bbox_inches='tight' , format='eps', dpi=400)\n",
    "plt.show()"
   ]
  },
  {
   "cell_type": "markdown",
   "metadata": {},
   "source": [
    "$\\large{\\textbf{Clonogenic assay simulations (loratinib)}}$"
   ]
  },
  {
   "cell_type": "code",
   "execution_count": 73,
   "metadata": {},
   "outputs": [],
   "source": [
    "# model parameters\n",
    "n_sim = 100000\n",
    "#n_sim = 10\n",
    "n_gen = i_time\n",
    "n_snap = 2\n",
    "div_low_median=0.1 # for crizotinib\n",
    "div_up=np.random.choice(lorl_d1,n_sim) # for crizotinib\n",
    "#death_rate=0.\n",
    "death_rate=0.01\n",
    "rand_div_inc=3\n",
    "n_steps = [1,3,10,30,100,200,300] # 7 different evolution steps\n",
    "mu1_list = [0., 0.0001, 0.0003, 0.001, 0.003, 0.01, 0.03, 0.1, 0.3, 1.]\n",
    "file_name = [\"0\",\"p0001\",\"p0003\",\"p001\",\"p003\",\"p01\",\"p03\",\"p1\",\"p3\",\"1\"]"
   ]
  },
  {
   "cell_type": "code",
   "execution_count": 69,
   "metadata": {},
   "outputs": [],
   "source": [
    "kl_list_lorl1=kl_list_lorl"
   ]
  },
  {
   "cell_type": "code",
   "execution_count": 72,
   "metadata": {},
   "outputs": [],
   "source": [
    "kl_list_lorl=kl_list_lorl[:9]"
   ]
  },
  {
   "cell_type": "code",
   "execution_count": null,
   "metadata": {},
   "outputs": [],
   "source": [
    "#KL evaluations over ranges of \"mu1\" and \"n_step\"\n",
    "kl_list_lorl = []\n",
    "\n",
    "for ii, mu1 in enumerate(mu1_list):\n",
    "    mu_prob = np.clip([mu1*a for a in n_steps],0,1)\n",
    "#    start = time.time()\n",
    "    kl_list_lorl.append([sim_3wk_clonogenic_assay([mu_prob[jj]], [n_steps[jj]] \n",
    "        , div_low=div_low_median, div_up=div_up, death_rate=death_rate, exp_data=lorl_ref_data[1:4], n_sim=n_sim\n",
    "        , saving=False, savename=\"pop\"+file_name[ii]+\"and\"+str(n_steps[jj])+\"_lorl\")[0] \n",
    "                    for jj in range(7)])\n",
    "#    end = time.time()\n",
    "#    print(end - start)"
   ]
  },
  {
   "cell_type": "code",
   "execution_count": 74,
   "metadata": {},
   "outputs": [],
   "source": [
    "ii=9\n",
    "mu1=mu1_list[-1]"
   ]
  },
  {
   "cell_type": "code",
   "execution_count": 75,
   "metadata": {},
   "outputs": [],
   "source": [
    "mu_prob = np.clip([mu1*a for a in n_steps],0,1)\n",
    "start = time.time()\n",
    "kl_list_lorl.append([sim_3wk_clonogenic_assay([mu_prob[jj]], [n_steps[jj]] \n",
    "    , div_low=div_low_median, div_up=div_up, death_rate=death_rate, exp_data=lorl_ref_data[1:4], n_sim=n_sim\n",
    "    , saving=True, savename=\"pop\"+file_name[ii]+\"and\"+str(n_steps[jj])+\"_lorl\")[0] \n",
    "               for jj in range(7)])\n"
   ]
  },
  {
   "cell_type": "code",
   "execution_count": 76,
   "metadata": {},
   "outputs": [
    {
     "name": "stdout",
     "output_type": "stream",
     "text": [
      "[[[0.055254543467056647, 0.037445604426922512, 0.022896605200319883], [0.055604258151914075, 0.036293228101374773, 0.022502258969101189], [0.05485328843839337, 0.036821657424982432, 0.023898321867381025], [0.054964002780773846, 0.037441705938287849, 0.022949487049784445], [0.055071559256075882, 0.037865231503542054, 0.023277902237650128], [0.054473369608857007, 0.037318194620108443, 0.022805425497575426], [0.05445443742088707, 0.037356547778528072, 0.023308902412648023]], [[0.054427751157627387, 0.036422855017459572, 0.014642399359476348], [0.055575964852454869, 0.036254359425318364, 0.017937330127377096], [0.055288891973595218, 0.037508465374743803, 0.020445871414707547], [0.054926701243470349, 0.037063667531427716, 0.019875829947416143], [0.053697068488980482, 0.037384875496465735, 0.023183749146757839], [0.054916640891655683, 0.036759442071878236, 0.022571451009207277], [0.054140006460965923, 0.03772123223095971, 0.022598021515567283]], [[0.054202195604429119, 0.035955837017632206, 0.013250203317696095], [0.053786053793652935, 0.035811489759022729, 0.014010983894359029], [0.055160908274416325, 0.037092075683922393, 0.019549474116569123], [0.054092838697495149, 0.036954016449623435, 0.022982523996453709], [0.05379052466355954, 0.037389600758767842, 0.023147282426411307], [0.054443107323777155, 0.036790602907230172, 0.023043518408267901], [0.053657251931601917, 0.036946680836452597, 0.023021640454451153]], [[0.05379071576972376, 0.036054972050738876, 0.01191754861425166], [0.053114946293066838, 0.034372068064221308, 0.011523293992598042], [0.054107471391324748, 0.036108074620394018, 0.0198524013378613], [0.054022232305251584, 0.035772711061741944, 0.021951632552153922], [0.053890797289614462, 0.03695392799168238, 0.022684315129256869], [0.053924411838851175, 0.036605777320876901, 0.019993616950168956], [0.053927431517926561, 0.036579705514503937, 0.022364638309458854]], [[0.052440645849187721, 0.034309390386827544, 0.0096590177283797062], [0.051873628616725148, 0.031381635542768696, 0.0090078364577017549], [0.052515901242558567, 0.032294775475178096, 0.016937536868715266], [0.052959007481723767, 0.033732825420701197, 0.020872202433837753], [0.052386181215643673, 0.034467477997928417, 0.021602411738807947], [0.052575827860595954, 0.0339318039877647, 0.021711020675639705], [0.052742895294677634, 0.034361684357123508, 0.021217771848343784]], [[0.051899728128431952, 0.03208159705420334, 0.0069869325015328243], [0.047252014005155087, 0.025205791207301952, 0.0052911155933257166], [0.046483648006789176, 0.025370216161091898, 0.0077417239084749895], [0.047655053806045962, 0.026878813653868804, 0.011114061576869654], [0.048111848800852244, 0.027535827502017551, 0.015679632737072634], [0.051413538538351337, 0.032190715785986104, 0.01801748415801456], [0.05261448701648555, 0.033701514627403596, 0.021555964380934364]], [[0.049508853054080898, 0.028631024992016047, 0.0045535382074136776], [0.041754988349999439, 0.019127277294897341, 0.0027368046424535992], [0.038243796949609117, 0.015672465762138474, 0.0026578067877631303], [0.037574509088627736, 0.014874310620813694, 0.003153695881279622], [0.047771198366071153, 0.027729943499417143, 0.014491464554342236], [0.051606063856063006, 0.031980651970197962, 0.017846659372021796], [0.053232090842806494, 0.033892621454267732, 0.021527815348006695]], [[0.046943321724869036, 0.025972021343121786, 0.0031081081273962616], [0.036646731956522627, 0.020169256710597376, 0.00274762946437071], [0.029934516018135137, 0.018496179347855028, 0.003111039755671929], [0.036778687818816436, 0.013804813471610434, 0.0025426735302355777], [0.048445815947684358, 0.027906329621455412, 0.013622283119543386], [0.051930791352001161, 0.032330427083652608, 0.020763512747093402], [0.052372165680367538, 0.03384711895244813, 0.018443050785673511]], [[0.047808124717000779, 0.028933018644568771, 0.0037808552697927936], [0.047100495895229438, 0.035438680633169718, 0.004809324820375431], [0.030159988529254313, 0.018494865384154357, 0.0031240535642200738], [0.036153947016302097, 0.013754607151757714, 0.0026081898602461329], [0.047407227897398131, 0.027894281259837589, 0.015572280852198445], [0.051186770825921581, 0.032378570296530941, 0.018133258624034813], [0.052733150373899494, 0.033677644601899454, 0.019109317226978947]], [[0.055519834661298506, 0.040115322547489798, 0.0050886425234471285], [0.04903591990562322, 0.036817021619251371, 0.0048932814159328326], [0.029983418296852579, 0.018428744658775215, 0.0030938201599947186], [0.036733436503382552, 0.013592139001393394, 0.0026066233231571367], [0.047884363489340248, 0.027676511955947634, 0.014334250173641039], [0.051322755256362783, 0.032157163503354451, 0.018408482429827847], [0.052173555324864257, 0.03370909127735059, 0.021406746126577572]]]\n"
     ]
    }
   ],
   "source": [
    "print(kl_list_lorl)"
   ]
  },
  {
   "cell_type": "code",
   "execution_count": 77,
   "metadata": {},
   "outputs": [
    {
     "data": {
      "image/png": "[encoded data removed]",
      "text/plain": [
       "<matplotlib.figure.Figure at 0x1a0e578668>"
      ]
     },
     "metadata": {},
     "output_type": "display_data"
    }
   ],
   "source": [
    "# figure\n",
    "kl_list = np.transpose(kl_list_lorl)\n",
    "vmin, vmax = .02, .1\n",
    "fig, axes = plt.subplots(2,2)\n",
    "axes[0,0].imshow(np.transpose(kl_list[0])[::-1], vmin=vmin, vmax=vmax, cmap='Blues')\n",
    "\n",
    "axes[0,1].imshow(np.transpose(kl_list[1])[::-1], vmin=vmin, vmax=vmax, cmap='Blues')\n",
    "\n",
    "axes[1,0].imshow(np.transpose(kl_list[2])[::-1], vmin=vmin, vmax=vmax, cmap='Blues')\n",
    "\n",
    "im = axes[1,1].imshow(np.transpose(kl_list[0]+kl_list[1]+kl_list[2])[::-1], vmin=vmin, vmax=vmax, cmap='Blues')\n",
    "\n",
    "[(a.set_xticks(np.arange(7)),\n",
    "  a.set_yticks(np.arange(10)),\n",
    "  a.set_xticklabels([\"  1\",\"  3\",\" 10\",\" 30\",\" 100\",\" 200\",\" 300\"], fontsize=7),\n",
    "  a.set_yticklabels([\"1\",\"0.3\",\"0.1\",\"0.03\",\"0.01\",\"0.003\",\"0.001\",\"0.0003\",\"0.0001\",\"0\"], fontsize=7),\n",
    "  plt.setp(a.get_xticklabels(), rotation=90, ha=\"right\", rotation_mode=\"anchor\"), \n",
    "  a.set_xlabel(\"n_step\"), \n",
    "  a.set_ylabel(\"mu_1\")) for a in [axes[0,0],axes[0,1],axes[1,0],axes[1,1]]]\n",
    "\n",
    "axes[0,0].set_title(\"Week 1\")\n",
    "axes[0,1].set_title(\"Week 2\")\n",
    "axes[1,0].set_title(\"Week 3\")\n",
    "axes[1,1].set_title(\"All weeks\")\n",
    "\n",
    "fig.tight_layout()\n",
    "\n",
    "fig.colorbar(im, ax=axes.ravel().tolist(), shrink=0.5)\n",
    "\n",
    "#plt.savefig('lorl_heatmap.eps' ,  bbox_inches='tight' , format='eps', dpi=400)\n",
    "plt.savefig('lorl_heatmap.png' ,  bbox_inches='tight' , format='eps', dpi=400)\n",
    "plt.show()"
   ]
  },
  {
   "cell_type": "code",
   "execution_count": null,
   "metadata": {},
   "outputs": [],
   "source": []
  }
 ],
 "metadata": {
  "kernelspec": {
   "display_name": "Python 3",
   "language": "python",
   "name": "python3"
  },
  "language_info": {
   "codemirror_mode": {
    "name": "ipython",
    "version": 3
   },
   "file_extension": ".py",
   "mimetype": "text/x-python",
   "name": "python",
   "nbconvert_exporter": "python",
   "pygments_lexer": "ipython3",
   "version": "3.6.3"
  }
 },
 "nbformat": 4,
 "nbformat_minor": 2
}
