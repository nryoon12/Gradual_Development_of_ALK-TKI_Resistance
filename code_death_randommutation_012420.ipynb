{
 "cells": [
  {
   "cell_type": "markdown",
   "metadata": {},
   "source": [
    "$\\large{\\textbf{Packages}}$"
   ]
  },
  {
   "cell_type": "code",
   "execution_count": 1,
   "metadata": {},
   "outputs": [],
   "source": [
    "from __future__ import division, print_function\n",
    "import numpy as np\n",
    "import math\n",
    "from scipy.stats import truncnorm\n",
    "from copy import deepcopy\n",
    "import matplotlib.pyplot as plt\n",
    "import matplotlib.gridspec as gridspec\n",
    "from matplotlib import colors\n",
    "import pickle\n",
    "import pandas as pd\n",
    "import seaborn as sns\n",
    "import time\n",
    "import random"
   ]
  },
  {
   "cell_type": "markdown",
   "metadata": {},
   "source": [
    "$\\large{\\textbf{Data}}$"
   ]
  },
  {
   "cell_type": "code",
   "execution_count": 2,
   "metadata": {},
   "outputs": [],
   "source": [
    "###############################################\n",
    "#experimental data; crizotinib and lorlatinib #\n",
    "###############################################\n",
    "\n",
    "#data = pd.read_excel(open('/Users/nara/Dropbox/Cancer/ALK-TKI/Gradual_Development_of_ALK-TKI_Resistance/GradualColonies.xlsx','rb'), sheetname='Sheet1',index_col=False)\n",
    "data = pd.read_excel(open('GradualColonies.xlsx','rb'), sheetname='Sheet1',index_col=False)\n",
    "criz_data=np.array([data[name][1:] for name in [\"Crizotinib\",\"Unnamed: 1\",\"Unnamed: 2\",\"Unnamed: 3\",\"Unnamed: 4\"]])\n",
    "lorl_data=np.array([data[name][1:] for name in [\"Lorlatinib\",\"Unnamed: 7\",\"Unnamed: 8\",\"Unnamed: 9\",\"Unnamed: 10\"]])\n",
    "\n",
    "criz_ref_data = [[round(a) for a in data[np.where(data>0)]/200] for data in criz_data]\n",
    "lorl_ref_data = [[round(a) for a in data[np.where(data>0)]/200] for data in lorl_data]"
   ]
  },
  {
   "cell_type": "code",
   "execution_count": 3,
   "metadata": {},
   "outputs": [
    {
     "data": {
      "image/png": "[encoded data removed]",
      "text/plain": [
       "<matplotlib.figure.Figure at 0x1a0a9d6278>"
      ]
     },
     "metadata": {},
     "output_type": "display_data"
    }
   ],
   "source": [
    "#########################################\n",
    "# data visualization; 2-legend barchart #\n",
    "#########################################\n",
    "\n",
    "def swarm_xyz(dataZ, ticksX, ticksY, labels=[\"x\",\"y\",\"z\"]\n",
    "             , zrange=False, logZ=True\n",
    "             , save=False, filename=\"save\"):\n",
    "\n",
    "    i, j = len(dataZ), len(dataZ[0])\n",
    "    if len(ticksX)!=i or len(ticksY)!=j:\n",
    "        print(\"data dimention is inconsistent\")\n",
    "\n",
    "    else:\n",
    "        df = pd.DataFrame()\n",
    "        \n",
    "        x_list, y_list, z_list = [], [], []\n",
    "        for ii in range(i):\n",
    "            for jj in range(j):\n",
    "                x_list.extend([ticksX[ii]]*len(dataZ[ii][jj]))\n",
    "                y_list.extend([ticksY[jj]]*len(dataZ[ii][jj]))\n",
    "                z_list.extend(dataZ[ii][jj])\n",
    "        \n",
    "        df[labels[0]] = x_list\n",
    "        df[labels[1]] = y_list\n",
    "        df[labels[2]] = z_list\n",
    "        \n",
    "        sns.set(style=\"ticks\")\n",
    "        sns.boxplot(x=labels[1], y=labels[2], hue=labels[0], data=df, dodge=True\n",
    "                     )\n",
    "        sns.despine(offset=10, trim=True)\n",
    "        if logZ:\n",
    "            plt.yscale('log')\n",
    "        if zrange:\n",
    "            plt.ylim(zrange[0], zrange[1])\n",
    "        if save:\n",
    "            plt.savefig(save+'.png' ,  bbox_inches='tight' , dpi=400)\n",
    "        plt.show()\n",
    "        \n",
    "swarm_xyz([criz_ref_data, lorl_ref_data], [\"criz\",\"lorl\"], [\"wk0\",\"wk1\",\"wk2\",\"wk3\",\"res\"], \n",
    "          labels=[\"Drug\",\"week\",\"population\"], zrange=[4, 220], logZ=True)"
   ]
  },
  {
   "cell_type": "markdown",
   "metadata": {},
   "source": [
    "$\\large{\\textbf{Functions}}$"
   ]
  },
  {
   "cell_type": "code",
   "execution_count": 4,
   "metadata": {},
   "outputs": [],
   "source": [
    "####################################################################################\n",
    "# Cellular Automaton model (CA); updating all the existing cells to next time step #\n",
    "####################################################################################\n",
    "\n",
    "def div(grid # n-by-n array filled with 0 (empty space) and 1 (taken by a cell)\n",
    "        , div_rate # n-by-n array indicating division rates for existing cells and 0 for empty spots\n",
    "        , step # n-by-n array indicating mutation status (an integer in [0,n_step]) for existing cells and 0 for empty spots\n",
    "        , mu_rate # mutation rates\n",
    "        , div_range=[0.1, 0.9] # range of division rates [d0,d1]\n",
    "        , death_rate=0.01 #death rate\n",
    "        , n_step=1 # number of steps required to reach from d0 to d1\n",
    "#        , rand_div_inc=3 # degree of randomness in division rate increase\n",
    "       ):\n",
    "\n",
    "    cell_list = np.nonzero( grid==1 ) # positions of existing cells on \"grid\"\n",
    "    \n",
    "    div_step = (div_range[1]-div_range[0])/n_step # increase in division rate per mutation\n",
    "    N = len( cell_list[0] ) # number of existing cells\n",
    "    indices = np.arange( N ) # indices of the N cells\n",
    "    rand_indices = np.random.permutation( indices ) # random suffling of the indices \n",
    "\n",
    "    for cnum in rand_indices:\n",
    "        row = cell_list[0][cnum]\n",
    "        col = cell_list[1][cnum]\n",
    "\n",
    "        rand = np.random.rand()\n",
    "        if rand < death_rate: # if 'yes', the cell dies. \n",
    "            grid[row, col] = 0 \n",
    "            div_rate[row, col] = 0.\n",
    "            step[row, col] = 0 \n",
    "            \n",
    "        elif (rand-death_rate) < div_rate[row,col]: # else if 'yes', it can divide.\n",
    "            search_grid = deepcopy(grid)                           \n",
    "            search_grid[row, col] = 2\n",
    "\n",
    "            empty = np.nonzero( search_grid[ max(row-1,0) : min(row+2,len(grid)) , max(col-1,0) : min(col+2,len(grid)) ]==0 )\n",
    "            org_ind = np.nonzero( search_grid[ max(row-1,0) : min(row+2,len(grid)) , max(col-1,0) : min(col+2,len(grid)) ]==2 )\n",
    "\n",
    "            empty2 = np.nonzero( search_grid[ max(row-2,0) : min(row+3,len(grid)) , max(col-2,0) : min(col+3,len(grid)) ]==0 )\n",
    "            org_ind2 = np.nonzero( search_grid[ max(row-2,0) : min(row+3,len(grid)) , max(col-2,0) : min(col+3,len(grid)) ]==2 )\n",
    "\n",
    "            if len( empty[0] ) > 0:  # if 'yes' (if there is an exmpty neighboring spot), it will divide to the spot.\n",
    "                rand = np.random.randint( len(empty[0]) )\n",
    "                nhb_ind = [empty[0][rand], empty[1][rand]]\n",
    "\n",
    "                row_new, col_new = row+nhb_ind[0]-org_ind[0], col+nhb_ind[1]-org_ind[1]\n",
    "                grid[row_new, col_new] = 1\n",
    "\n",
    "                rand = np.random.rand()\n",
    "                if step[row, col] < n_step and rand < mu_rate: # if 'yes', mutation will occur during the division.\n",
    "#                    rand_inc = (truncnorm.rvs(-rand_div_inc, rand_div_inc, size=2)/rand_div_inc*2 + 1) * div_step\n",
    "#                    rand_inc = (truncnorm.rvs(-rand_div_inc, rand_div_inc, size=2)/rand_div_inc + 1) * div_step\n",
    "#                    rand_inc = np.random.poisson(1,2) * div_step\n",
    "                    rand_inc = random.choice((-1, 1))* np.random.poisson(1,2) * div_step\n",
    "#                    div_new = np.clip(div_rate[row,col]+rand_inc, div_range[0], div_range[1])\n",
    "                    div_new = np.clip(div_rate[row,col]+rand_inc, 0, div_range[1])\n",
    "                    div_rate[row, col], div_rate[row_new, col_new] = div_new\n",
    "\n",
    "                    step[row_new, col_new] = step[row, col] + 1\n",
    "                    step[row, col] += 1\n",
    "                else: # else, no mutation will occur.\n",
    "                    div_rate[row_new, col_new] = div_rate[row, col] \n",
    "                    step[row_new, col_new] = step[ row , col ]\n",
    "                    \n",
    "            elif len( empty2[0] ) > 0: # else if there is an exmpty spot right beyond neighborhood, it will push and divide to the spot.\n",
    "                rand = np.random.randint( len(empty2[0]) )\n",
    "                nhb_ind = [empty2[0][rand], empty2[1][rand]]\n",
    "\n",
    "                row_new, col_new = row+nhb_ind[0]-org_ind2[0], col+nhb_ind[1]-org_ind2[1]\n",
    "                row_push, col_push = np.clip(row_new, row-1, row+1), np.clip(col_new, col-1, col+1)\n",
    "                grid[row_new, col_new] = 1\n",
    "                \n",
    "                rand = np.random.rand()\n",
    "                if step[row, col] < n_step and rand < mu_rate: # if 'yes', mutation will occur during the division.\n",
    "#                    rand_inc = (truncnorm.rvs(-rand_div_inc, rand_div_inc, size=2)/rand_div_inc*2 + 1) * div_step\n",
    "#                    rand_inc = (truncnorm.rvs(-rand_div_inc, rand_div_inc, size=2)/rand_div_inc + 1) * div_step\n",
    "#                    rand_inc = np.random.poisson(1,2) * div_step\n",
    "                    rand_inc = random.choice((-1, 1))* np.random.poisson(1,2) * div_step\n",
    "#                    div_new = np.clip(div_rate[row,col]+rand_inc, div_range[0], div_range[1])\n",
    "                    div_new = np.clip(div_rate[row,col]+rand_inc, 0, div_range[1])\n",
    "                    div_rate[row_new, col_new] = div_rate[row_push, col_push]                    \n",
    "                    div_rate[row, col], div_rate[row_push, col_push] = div_new\n",
    "                    step[row_new, col_new] = step[row_push, col_push]\n",
    "                    step[row_push, col_push] = step[row, col] + 1\n",
    "                    step[row, col] += 1\n",
    "                else: # else, no mutation will occur.\n",
    "                    div_rate[row_new, col_new] = div_rate[row_push, col_push]                    \n",
    "                    div_rate[row_push, col_push] = div_rate[row,col] \n",
    "                    \n",
    "                    step[row_new, col_new] = step[row_push, col_push]\n",
    "                    step[row_push, col_push] = step[row, col]\n",
    "\n",
    "    return grid.copy(), div_rate.copy(), step.copy()"
   ]
  },
  {
   "cell_type": "code",
   "execution_count": 5,
   "metadata": {},
   "outputs": [],
   "source": [
    "#####################################################################################################\n",
    "# CA; simulation of cell culture over 'grid_size'-by-'grid_size' grid as long as 'n_gen' time steps #\n",
    "#####################################################################################################\n",
    "\n",
    "def run_automaton( grid_size=100 # grid shape: square grid of 'grid_size' by 'grid_size'\n",
    "                  , n_gen=100 # number of time steps to run\n",
    "                  , n_snap=6 # number of time points at which simulation is recorded \n",
    "                  , mu_rate=0.1 # (same to the input of function(s) above)\n",
    "                  , div_range=[0.1, 0.9] # (same to the input of function(s) above)\n",
    "                  , death_rate=0.01 # death rate\n",
    "                  , n_step=8 # (same to the input of function(s) above)\n",
    "#                  , rand_div_inc=3 # degree of randomness in division rate increase\n",
    "                  , ini_div=0.1 # division rate at the initiation of the simulation\n",
    "                  , ini_step=0 # step of mutation at the initiation of the simulation\n",
    "                 ): \n",
    "    \n",
    "    # initiation of grid\n",
    "    grid = np.zeros( [ grid_size , grid_size ] )\n",
    "    center = int( grid_size / 2 )\n",
    "    grid[center, center] = 1\n",
    "    \n",
    "    div_rate = deepcopy(ini_div*grid)\n",
    "    step = deepcopy(ini_step*grid)\n",
    "\n",
    "    microenv_list = [ deepcopy([0, grid, div_rate, step]) ]\n",
    "    \n",
    "    # generate a sequence of time points to record\n",
    "    if n_snap is not None:\n",
    "        mfig = np.int_( np.linspace(0, n_gen, n_snap, endpoint=True) )\n",
    "    else:\n",
    "        mfig = []\n",
    "\n",
    "    # run CA simulation\n",
    "    for gen in range(1, n_gen+1):\n",
    "        grid, div_rate, step = div( grid=grid , div_rate=div_rate , step=step , mu_rate=mu_rate, div_range=div_range\n",
    "                             , death_rate=death_rate, n_step=n_step#, rand_div_inc=rand_div_inc\n",
    "                                  )\n",
    "            \n",
    "        # save simulation\n",
    "        if gen in mfig:\n",
    "            microenv_list.append( deepcopy([gen, grid, div_rate, step]) )\n",
    "    \n",
    "    return deepcopy(microenv_list)"
   ]
  },
  {
   "cell_type": "code",
   "execution_count": 6,
   "metadata": {},
   "outputs": [],
   "source": [
    "#################################################################################\n",
    "# run multiple CA simulations as many as \"n_sim\" per each evolutionary scenario #\n",
    "#################################################################################\n",
    "\n",
    "def run_multiple( n_sim=10000 # number of simulations for each evolutionary scenario \n",
    "                 , grid_size=100 # (same to the input of function(s) above)\n",
    "                 , n_gen=100 # (same to the input of function(s) above)\n",
    "                 , n_snap=6 # (same to the input of function(s) above)\n",
    "                 , mu_prob=[0.008, 0.08, 0.8] # three different evolutionary scenarios represented by different mutation rates\n",
    "                 , div_low=0.3 # lower limites of division rate (fixed)\n",
    "                 , div_up=[0.5,0.7] # possible options of upper limit of division rates \n",
    "                 , death_rate=0.01 # death rate\n",
    "                 , n_steps=[1, 10, 100] # corresponding number of steps for the three scenarios \n",
    "#                 , rand_div_inc=3 # degree of randomness in division rate increase\n",
    "                 , pickling=False , picklename=\"save\" # save simulation results\n",
    "                 , ini_div = 0.1 # (same to the input of function(s) above)\n",
    "                 , ini_step = 0 # (same to the input of function(s) above)\n",
    "                ): \n",
    "\n",
    "    # (start here)initiation of data including cells occupying\"grid\"  \"division rates\"\n",
    "    microenv_lists = [[[] for i in range(len(mu_prob))] for j in range(n_sim)]\n",
    "    \n",
    "    # iteration for all the scenarios\n",
    "    for j in range(len(mu_prob)):\n",
    "        # iteration for the \"n_sim\" replicates\n",
    "        for i in range(n_sim):\n",
    "            microenv_lists[i][j] = run_automaton( grid_size=grid_size , n_gen=n_gen , n_snap=n_snap\n",
    "                                                   , mu_rate=mu_prob[j], div_range=[div_low, div_up[i]]\n",
    "                                                   , death_rate=death_rate, n_step=n_steps[j]\n",
    "#                                                   , rand_div_inc=rand_div_inc \n",
    "                                                   , ini_div = ini_div, ini_step = ini_step)\n",
    "    # save (no not)\n",
    "    if pickling:\n",
    "        pickle.dump( [div_up, microenv_lists], open( picklename + \".p\", \"wb\" ) )\n",
    "        \n",
    "    return deepcopy([div_up, microenv_lists])"
   ]
  },
  {
   "cell_type": "code",
   "execution_count": 7,
   "metadata": {},
   "outputs": [],
   "source": [
    "###########################################################\n",
    "# clonogenic assay with cells of 1-, 2-, 3-week exposures #\n",
    "###########################################################\n",
    "\n",
    "def sim_3wk_clonogenic_assay(mu_prob # (same to the input of function(s) above)\n",
    "                             , n_steps # (same to the input of function(s) above) \n",
    "                             , div_low=0.13 # (same to the input of function(s) above)\n",
    "                             , div_up=0.5 # (same to the input of function(s) above)\n",
    "                             , death_rate=0.01 # death rate\n",
    "#                             , rand_div_inc=3 # degree of randomness in division rate increase\n",
    "                             , exp_data=criz_ref_data[1:4] # reference data to be compared with the simulation results\n",
    "                             , n_sim=100000 # (same to the input of function(s) above)\n",
    "                             , saving=False, savename=\"name\" # (same to the input of function(s) above)\n",
    "                            ):\n",
    "    n_gen = 3*9 # CA simulation over 9 time points for each of 3 weeks\n",
    "    n_snap = 4\n",
    "    \n",
    "    # CA simulation\n",
    "    microenv_list_all = run_multiple( n_sim=n_sim , grid_size=grid_size , n_gen=n_gen , n_snap=n_snap\n",
    "                , mu_prob=mu_prob, div_low=div_low, div_up=div_up\n",
    "                , death_rate=death_rate, n_steps=n_steps\n",
    "#                , rand_div_inc=rand_div_inc\n",
    "                , pickling=False , picklename=\"save\"\n",
    "                , ini_div = div_low, ini_step = 0)\n",
    "    \n",
    "    n_gen = 9 # CA simulation over 9 time steps for a week of clonogenic assay\n",
    "    n_snap = 2 \n",
    "    dt = [[[0 for k in range(n_sim)] for i in range(3)] for j in range(len(mu_prob))]\n",
    "    for i in range(n_sim):\n",
    "        for j in range(len(mu_prob)):\n",
    "            for k in range(1,4):\n",
    "                grid, div_rate, step = microenv_list_all[1][i][j][k][1:]\n",
    "                ind_old = np.where(grid!=0)\n",
    "                if len(ind_old[0])>0:\n",
    "                    rand_ind = np.random.choice(len(ind_old[0]))\n",
    "                    ind = ind_old[0][rand_ind], ind_old[1][rand_ind]\n",
    "                    result_list = run_automaton( grid_size=grid_size , n_gen=n_gen , n_snap=n_snap\n",
    "                     , mu_rate=mu_prob[j], div_range=[div_low, div_up[i]]\n",
    "                     , death_rate=death_rate, n_step=n_steps[j]\n",
    "#                     , rand_div_inc=rand_div_inc \n",
    "                     , ini_div=div_rate[ind], ini_step=step[ind])\n",
    "                    dt[j][k-1][i] = np.sum(result_list[-1][1])\n",
    "                else:\n",
    "                    dt[j][k-1][i] = 0\n",
    "                    \n",
    "\n",
    "    #Comparison between reference data (\"exp_data\") and simulation results with KL divergence\n",
    "    dt = dt+[exp_data]\n",
    "    kl_list = [[0 for j in range(3)] for i in range(len(mu_prob))]\n",
    "    for i in range(len(mu_prob)):\n",
    "        for j in range(3):\n",
    "#            kl_list[i][j] = kl_mean(dt[i][j],exp_data[j], low=5, n=50000)\n",
    "            kl_list[i][j] = kl(exp_data[j], dt[i][j])\n",
    "\n",
    "    if saving:\n",
    "        df = pd.DataFrame()\n",
    "        ticksX=n_steps\n",
    "        ticksY=[1,2,3]\n",
    "        x_list, y_list, z_list = [], [], []\n",
    "        for ii in range(len(mu_prob)):\n",
    "            for jj in range(3):\n",
    "                x_list.extend([ticksX[ii]]*n_sim)\n",
    "                y_list.extend([ticksY[jj]]*n_sim)\n",
    "                z_list.extend(dt[ii][jj])\n",
    "        df[\"n_step\"] = x_list\n",
    "        df[\"week\"] = y_list\n",
    "        df[\"population\"] = z_list\n",
    "        \n",
    "        writer = pd.ExcelWriter( savename + '.xlsx', engine='xlsxwriter')\n",
    "        df.to_excel(writer, sheet_name='Sheet1')\n",
    "\n",
    "    return kl_list"
   ]
  },
  {
   "cell_type": "code",
   "execution_count": 8,
   "metadata": {},
   "outputs": [],
   "source": [
    "#############################################################################\n",
    "# comparison between two distributions based on kullback leibler divergence #\n",
    "#############################################################################\n",
    "\n",
    "def kl(p, q, low=0, n_bin=10):\n",
    "    p, q = np.array(p), np.array(q)\n",
    "    p, q = p[np.where(p>=low)], q[np.where(q>=low)]\n",
    "    \n",
    "    m, M = [min(p), max(p)]\n",
    "    bin_wt = (M-m)/(n_bin-1)\n",
    "    bin_ends = np.arange(m,M+2*bin_wt,bin_wt)\n",
    "    \n",
    "    p, q = np.clip(p, m, M), np.clip(q, m, M)\n",
    "    \n",
    "    p_hist, bin_edges = np.histogram(p, bins=bin_ends, density=True)\n",
    "    q_hist, bin_edges = np.histogram(q, bins=bin_ends, density=True)\n",
    "    p_hist, q_hist = np.clip([p_hist, q_hist], 10**(-10), math.inf)\n",
    "\n",
    "    return np.mean(p_hist*np.log10(p_hist / q_hist))"
   ]
  },
  {
   "cell_type": "markdown",
   "metadata": {},
   "source": [
    "$\\large{\\textbf{Estimation of the upper level of division rates (d1)}}$"
   ]
  },
  {
   "cell_type": "code",
   "execution_count": 9,
   "metadata": {},
   "outputs": [],
   "source": [
    "t_fin = 9\n",
    "n_sim = 10\n",
    "grid_size = 20\n",
    "i_time = 9\n",
    "#rand_div_inc = 3"
   ]
  },
  {
   "cell_type": "code",
   "execution_count": 33,
   "metadata": {},
   "outputs": [],
   "source": [
    "# relationship between (i) (fixed) division rate and (ii) expected colony size\n",
    "div_rates = np.arange(0.01,1.,0.01) # discrete values of division rate\n",
    "#death_rate=0.\n",
    "death_rate=0.01\n",
    "\n",
    "pop_fin = []\n",
    "#simulation to generate multiple, random colony sizes after 1-week-long clonogenic assay \n",
    "for div_rate in div_rates:\n",
    "    pop_stoch_hist = []\n",
    "    for i in range(500):\n",
    "        microenv_list = run_automaton(grid_size=grid_size, n_gen=t_fin, n_snap=2\n",
    "                , mu_rate=0.0, div_range=[div_rate, div_rate]\n",
    "                , death_rate=death_rate, n_step=1\n",
    "#                , rand_div_inc=rand_div_inc\n",
    "                , ini_div=div_rate, ini_step=0)\n",
    "        pop_stoch_hist.append(np.sum(microenv_list[-1][1]))\n",
    "        \n",
    "    # 0%, 25%, 50% (median), 75%, 100% quantiles of the distribution of colony sizes\n",
    "    pop_fin.append(np.percentile(np.array(pop_stoch_hist),[0,25,50,75,100]))"
   ]
  },
  {
   "cell_type": "code",
   "execution_count": 34,
   "metadata": {},
   "outputs": [
    {
     "data": {
      "image/png": "[encoded data removed]",
      "text/plain": [
       "<matplotlib.figure.Figure at 0x1a1b7404e0>"
      ]
     },
     "metadata": {},
     "output_type": "display_data"
    }
   ],
   "source": [
    "# graph\n",
    "plt.plot(div_rates,pop_fin,'k--',linewidth=1)\n",
    "plt.plot(div_rates,[a[2] for a in pop_fin],'b',linewidth=2)\n",
    "plt.xlabel('Division rate')\n",
    "plt.ylabel('Final population')\n",
    "#plt.savefig('d1_fun.eps' ,  bbox_inches='tight' , format='eps', dpi=400)\n",
    "#plt.savefig('d1_fun.png' ,  bbox_inches='tight' , dpi=400)\n",
    "plt.show()"
   ]
  },
  {
   "cell_type": "code",
   "execution_count": 35,
   "metadata": {},
   "outputs": [],
   "source": [
    "# Estimation of d1, based on the relationship and the experimental colony size data of \"resistant cell\" (\"criz_ref_data\" and \"lorl_ref_data\") \n",
    "criz_d1, lorl_d1 = [[np.interp(a, [a[2] for a in pop_fin], div_rates) for a in dt]\n",
    "                                      for dt in [criz_ref_data[-1], lorl_ref_data[-1]]]"
   ]
  },
  {
   "cell_type": "markdown",
   "metadata": {},
   "source": [
    "$\\large{\\textbf{Clonogenic assay simulations (crizotinib)}}$"
   ]
  },
  {
   "cell_type": "code",
   "execution_count": 36,
   "metadata": {},
   "outputs": [],
   "source": [
    "# model parameters\n",
    "n_sim = 100000\n",
    "#n_sim = 50\n",
    "n_gen = i_time\n",
    "n_snap = 2\n",
    "div_low_median=0.13 # for crizotinib\n",
    "div_up=np.random.choice(criz_d1,n_sim) # for crizotinib\n",
    "#death_rate=0.\n",
    "death_rate=0.01\n",
    "#rand_div_inc=3\n",
    "n_steps = [1,3,10,30,100,200,300] # 7 different evolution steps\n",
    "mu1_list = [0., 0.0001, 0.0003, 0.001, 0.003, 0.01, 0.03, 0.1, 0.3, 1.]\n",
    "file_name = [\"0\",\"p0001\",\"p0003\",\"p001\",\"p003\",\"p01\",\"p03\",\"p1\",\"p3\",\"1\"]"
   ]
  },
  {
   "cell_type": "code",
   "execution_count": 37,
   "metadata": {},
   "outputs": [],
   "source": [
    "#KL evaluations over ranges of \"mu1\" and \"n_step\"\n",
    "kl_list_criz = []\n",
    "\n",
    "for ii, mu1 in enumerate(mu1_list):\n",
    "    mu_prob = np.clip([mu1*a for a in n_steps],0,1)\n",
    "    kl_list_criz.append([sim_3wk_clonogenic_assay([mu_prob[jj]], [n_steps[jj]]\n",
    "        , div_low=div_low_median, div_up=div_up, death_rate=death_rate, exp_data=lorl_ref_data[1:4], n_sim=n_sim\n",
    "        , saving=False, savename=\"pop\"+file_name[ii]+\"and\"+str(n_steps[jj]))[0] \n",
    "                    for jj in range(7)])"
   ]
  },
  {
   "cell_type": "code",
   "execution_count": 38,
   "metadata": {},
   "outputs": [
    {
     "name": "stdout",
     "output_type": "stream",
     "text": [
      "[[[0.034957597024141779, 0.020113346111428981, 0.01516813190144517], [0.034731514761640589, 0.020631283032198473, 0.015315020736940889], [0.035158406688854477, 0.020753152836057116, 0.014975058112228701], [0.034877326319722048, 0.020577843030291667, 0.015081336473700574], [0.035101318986739259, 0.020358691006823783, 0.015337748796848273], [0.034560606780470036, 0.020317201409016161, 0.013696016696923023], [0.035017738950458059, 0.0204655747082923, 0.015355353251880871]], [[0.034975479062625839, 0.020471827800655876, 0.010354478397190713], [0.034777121239643244, 0.020285510925379599, 0.010324735464723201], [0.034597779884984949, 0.02067058916619503, 0.014876048872123853], [0.03474051253224851, 0.020264917439993861, 0.015077824369328497], [0.03463006543973856, 0.02044813936589629, 0.01530378997326215], [0.034840659716701534, 0.020052293372694086, 0.013836999113236874], [0.034744140329712396, 0.020537548067506625, 0.013988044686086713]], [[0.034761707461849312, 0.020441774958650221, 0.0096488797384747787], [0.034482788098792433, 0.020064890847618404, 0.0095003506311565188], [0.034342810380931385, 0.020219118661000207, 0.014892063802181736], [0.034949302974653706, 0.020490879247961242, 0.015229411808188388], [0.034858725959578403, 0.020505380273283906, 0.014959867276578564], [0.035108824851737122, 0.020346141435233774, 0.015126564361289795], [0.035051214734899486, 0.020144659284818588, 0.014927199301222408]], [[0.034472242076058736, 0.020010122509263005, 0.0083214828532820698], [0.034756697967305197, 0.01957733913676888, 0.0081570042281268167], [0.034169544871402169, 0.019831206957276103, 0.010276439353982382], [0.035181668611016702, 0.020123106830616612, 0.013590438659298886], [0.034765160518905297, 0.0203275466080922, 0.014743225331287892], [0.034347250508355624, 0.019901878208773045, 0.014680305336961817], [0.034313015685765606, 0.02006521277512148, 0.014620864089296011]], [[0.03463337400458083, 0.019467309886337582, 0.0069556990936261312], [0.033885278093775277, 0.018640127903912479, 0.0064646289388941838], [0.033575326213394742, 0.018640037352266162, 0.0086823735658343604], [0.033875482427785375, 0.019139013905883399, 0.012418464151385526], [0.034281052344795677, 0.019013988069826071, 0.014282253593229171], [0.034152942218954999, 0.01876390990370911, 0.012829397850678687], [0.033729004677642345, 0.019204617491783323, 0.012282179134951441]], [[0.033646412772709591, 0.018390349722050954, 0.0051025385980343263], [0.032751261400035078, 0.016450684851061059, 0.0040139495793675472], [0.032044723660071349, 0.015206795644421931, 0.0051694257793427588], [0.032302516685659539, 0.015447483187863756, 0.0078050373285320409], [0.03226818039034042, 0.015713554634976611, 0.011061540099260888], [0.033068801421176429, 0.018074040311597352, 0.013718002375111903], [0.034087146172612243, 0.019193571983884331, 0.012831021288371812]], [[0.033146777827490259, 0.017496659490828508, 0.0029796333852807259], [0.031100925551971057, 0.014207687961466365, 0.0019360238402108996], [0.028466950670017022, 0.010963195111186952, 0.0018934160929805213], [0.027802007260610818, 0.010068151803704576, 0.00248392190531025], [0.032321724786000455, 0.015837875728635029, 0.0091080015377813951], [0.033552368726957119, 0.018024422364986109, 0.012395894144408247], [0.034053853625572041, 0.01935312640669045, 0.012860235788816293]], [[0.032958982109119322, 0.016829410595848707, 0.0016716549399758832], [0.030070817624140336, 0.014759350978379165, 0.0012400760520101238], [0.026480189258323173, 0.014642909884545793, 0.0012567208931313016], [0.027434750517638561, 0.009584890883746703, 0.0020897506212665161], [0.032277035464999812, 0.015769978161262788, 0.0088191240885722687], [0.033433131630176575, 0.0180641358455556, 0.013787995341310548], [0.033596741860360137, 0.018936282276482176, 0.014035153850695264]], [[0.034521949766635467, 0.019538545380960483, 0.0017206542075507375], [0.034285701067146394, 0.021811748204781243, 0.001786052548088339], [0.026892191494873038, 0.014474718917609628, 0.0012422277531398103], [0.027309770732135311, 0.0097793070824726373, 0.0020917972374079707], [0.031687974796371664, 0.01602283428486246, 0.009060937612138633], [0.03347442184091734, 0.018240149912914887, 0.012395981216090061], [0.033587761337310021, 0.018813036610604163, 0.014411449353867805]], [[0.038277092321268365, 0.023592347343317121, 0.0019512290102036639], [0.034624693312094161, 0.022228308672469749, 0.0018449999106016019], [0.026586556740226454, 0.014466477412489695, 0.0012436954536816575], [0.027058651263314769, 0.0098347539240397457, 0.0020730862150321028], [0.031831016272460384, 0.016093507919793269, 0.010898785820776765], [0.033780024045761393, 0.018152515170645665, 0.012219215257697215], [0.03400713918193398, 0.018289926494432063, 0.01421352737615611]]]\n"
     ]
    }
   ],
   "source": [
    "# 2 directional poisson \n",
    "print(kl_list_criz)"
   ]
  },
  {
   "cell_type": "code",
   "execution_count": 23,
   "metadata": {},
   "outputs": [
    {
     "name": "stdout",
     "output_type": "stream",
     "text": [
      "[[[0.030729702901622826, 0.017288478341066053, 0.014272448471031625], [0.030833890402474598, 0.01743782876829035, 0.013118138795543193], [0.030990848386797918, 0.017388698702200049, 0.014213679682030604], [0.031007246606024743, 0.017201304766306123, 0.014124631705819275], [0.031103970403670453, 0.017612141469549817, 0.013103308252442165], [0.030920773948624206, 0.017265677900820876, 0.014288855526226597], [0.031247451441833038, 0.017373275293011178, 0.013036078312983064]], [[0.030956047708421995, 0.017445009934865457, 0.0094912178586606648], [0.030634774031214916, 0.017011807927432385, 0.0093396671171545754], [0.030812625218894333, 0.017392009028913989, 0.0142352032594597], [0.030765592850907839, 0.017331023432016132, 0.014557004482457985], [0.031167961176571304, 0.017330122870852335, 0.014390579254892273], [0.030756637046039179, 0.017221957527907662, 0.014243964078111454], [0.0309709826213053, 0.017443432146736465, 0.014244330244027558]], [[0.030796911533061907, 0.017004984957174112, 0.0088411672041586245], [0.030757090800002475, 0.017148752929566899, 0.0087880931694078335], [0.03082187159065403, 0.017035048724566161, 0.010775146642900307], [0.030799828184016987, 0.017313915369062412, 0.014278345018088985], [0.030948027065425158, 0.017264913963612551, 0.014163080828796753], [0.030957671181369696, 0.017320454180315505, 0.014471078403205379], [0.030625610517434679, 0.017299224711439694, 0.012811071953568487]], [[0.030878311053119355, 0.016938044450698415, 0.0077287269398521674], [0.030789485009609194, 0.016696507404043315, 0.0074189393547319437], [0.030300128372596137, 0.01685791566925491, 0.0096483057705464958], [0.030405209884322923, 0.016786099769102471, 0.012593785533022483], [0.030799468298138587, 0.016859105878951685, 0.013940426223567342], [0.030353556255647996, 0.017327940214013744, 0.014262614564329167], [0.030368202498624427, 0.01683476032218259, 0.014159583713970504]], [[0.03043184134455125, 0.016647800144600974, 0.0063903608285538205], [0.030201376482500663, 0.016063068133524684, 0.0057406025438222121], [0.029974849508760018, 0.015567516972157214, 0.0075757472447618565], [0.02995036758245322, 0.015901056246651418, 0.013301950473614826], [0.030249606178567822, 0.016170541657841327, 0.013627178944260967], [0.030323611701358746, 0.016492602871976535, 0.012332281980791511], [0.029860483519129913, 0.016076936216768652, 0.012294175712315752]], [[0.029732138434691188, 0.015806905655220405, 0.0045539601976160018], [0.028872515928898956, 0.014024295905839554, 0.0036284698513560977], [0.028493197727237608, 0.013052433891781994, 0.0045657272731725353], [0.028298747990221217, 0.013092090241920378, 0.0064039758861336995], [0.028205357365321607, 0.013640682736630109, 0.0081501692153850419], [0.029264023224636171, 0.015504529464258588, 0.011809035348343879], [0.029902317616064236, 0.015965224062594471, 0.012164577287509793]], [[0.028915378649463832, 0.015251696931642805, 0.0026873600670143552], [0.027724278527504472, 0.012419351281935966, 0.0016671545594271005], [0.025773713475689266, 0.0095984095422070054, 0.0015572732112600544], [0.025117377488629803, 0.0087033126725890118, 0.0020963203721288954], [0.028082822521415043, 0.013661796875804367, 0.0097849230522064051], [0.029392024164838656, 0.015346397584988741, 0.011817908622873335], [0.029980338077217762, 0.01586735587127653, 0.012192377413099796]], [[0.030092675174864855, 0.015400821157707198, 0.0015182339386496163], [0.027347037449844836, 0.014380853855554571, 0.0012623875994183581], [0.024434673793645455, 0.014399920260149269, 0.0014749563559206527], [0.024348169318636016, 0.0080763415280076731, 0.0016890892030637498], [0.027982333789749694, 0.013519172864497744, 0.010211271831186345], [0.029664365490817267, 0.014995294508275164, 0.01295789554746345], [0.030022943432731628, 0.015621562330543357, 0.013516645581174864]], [[0.031838270813527886, 0.018949001414263894, 0.0018189826837839867], [0.03334014710194988, 0.022922835368152795, 0.0020158422399357162], [0.024483958551169558, 0.014593239630475884, 0.0014368739565755807], [0.024709298275237823, 0.0080409678570455938, 0.0016789231774021888], [0.02843612375992929, 0.013420128269870293, 0.010112624728829749], [0.02966393545054432, 0.01520779761235303, 0.0130786362958845], [0.030236768181176269, 0.016192941652346683, 0.012163145420892156]], [[0.036976436052369693, 0.024672930947818871, 0.0021196223500175543], [0.033831307174087458, 0.023530237405654512, 0.0020520301162210599], [0.024656027717344278, 0.01440328605414842, 0.0014735414992945804], [0.024541869351564261, 0.0079789284332131838, 0.0016956221345768895], [0.028476785274055016, 0.013323815013445239, 0.0084163876995762797], [0.029907914089969057, 0.01529988827790032, 0.012783132403879859], [0.030164859615533925, 0.015891439136683661, 0.01359610592709377]]]\n"
     ]
    }
   ],
   "source": [
    "# 1 directional poisson\n",
    "print(kl_list_criz)"
   ]
  },
  {
   "cell_type": "code",
   "execution_count": 39,
   "metadata": {},
   "outputs": [
    {
     "data": {
      "image/png": "[encoded data removed]",
      "text/plain": [
       "<matplotlib.figure.Figure at 0x1a1b749eb8>"
      ]
     },
     "metadata": {},
     "output_type": "display_data"
    }
   ],
   "source": [
    "# figure\n",
    "kl_list = np.transpose(kl_list_criz)\n",
    "vmin, vmax = .02, .07\n",
    "fig, axes = plt.subplots(2,2)\n",
    "axes[0,0].imshow(np.transpose(kl_list[0])[::-1], vmin=vmin, vmax=vmax, cmap='Reds')\n",
    "\n",
    "axes[0,1].imshow(np.transpose(kl_list[1])[::-1], vmin=vmin, vmax=vmax, cmap='Reds')\n",
    "\n",
    "axes[1,0].imshow(np.transpose(kl_list[2])[::-1], vmin=vmin, vmax=vmax, cmap='Reds')\n",
    "\n",
    "im = axes[1,1].imshow(np.transpose(kl_list[0]+kl_list[1]+kl_list[2])[::-1], vmin=vmin, vmax=vmax, cmap='Reds')\n",
    "\n",
    "[(a.set_xticks(np.arange(7)),\n",
    "  a.set_yticks(np.arange(10)),\n",
    "  a.set_xticklabels([\"  1\",\"  3\",\" 10\",\" 30\",\" 100\",\" 200\",\" 300\"], fontsize=7),\n",
    "  a.set_yticklabels([\"1\",\"0.3\",\"0.1\",\"0.03\",\"0.01\",\"0.003\",\"0.001\",\"0.0003\",\"0.0001\",\"0\"], fontsize=7),\n",
    "  plt.setp(a.get_xticklabels(), rotation=90, ha=\"right\", rotation_mode=\"anchor\"), \n",
    "  a.set_xlabel(\"n_step\"), \n",
    "  a.set_ylabel(\"mu_1\")) for a in [axes[0,0],axes[0,1],axes[1,0],axes[1,1]]]\n",
    "\n",
    "axes[0,0].set_title(\"Week 1\")\n",
    "axes[0,1].set_title(\"Week 2\")\n",
    "axes[1,0].set_title(\"Week 3\")\n",
    "axes[1,1].set_title(\"All weeks\")\n",
    "\n",
    "fig.tight_layout()\n",
    "\n",
    "fig.colorbar(im, ax=axes.ravel().tolist(), shrink=0.5)\n",
    "\n",
    "#plt.savefig('criz_heatmap.eps' ,  bbox_inches='tight' , format='eps', dpi=400)\n",
    "plt.savefig('criz_heatmap.png' ,  bbox_inches='tight' , format='eps', dpi=400)\n",
    "plt.show()"
   ]
  },
  {
   "cell_type": "markdown",
   "metadata": {},
   "source": [
    "$\\large{\\textbf{Clonogenic assay simulations (loratinib)}}$"
   ]
  },
  {
   "cell_type": "code",
   "execution_count": 40,
   "metadata": {},
   "outputs": [],
   "source": [
    "# model parameters\n",
    "n_sim = 100000\n",
    "#n_sim = 50\n",
    "n_gen = i_time\n",
    "n_snap = 2\n",
    "div_low_median=0.1 # for crizotinib\n",
    "div_up=np.random.choice(lorl_d1,n_sim) # for crizotinib\n",
    "#death_rate=0.\n",
    "death_rate=0.01\n",
    "#rand_div_inc=3\n",
    "n_steps = [1,3,10,30,100,200,300] # 7 different evolution steps\n",
    "mu1_list = [0., 0.0001, 0.0003, 0.001, 0.003, 0.01, 0.03, 0.1, 0.3, 1.]\n",
    "file_name = [\"0\",\"p0001\",\"p0003\",\"p001\",\"p003\",\"p01\",\"p03\",\"p1\",\"p3\",\"1\"]"
   ]
  },
  {
   "cell_type": "code",
   "execution_count": 41,
   "metadata": {},
   "outputs": [],
   "source": [
    "#KL evaluations over ranges of \"mu1\" and \"n_step\"\n",
    "kl_list_lorl = []\n",
    "\n",
    "for ii, mu1 in enumerate(mu1_list):\n",
    "    mu_prob = np.clip([mu1*a for a in n_steps],0,1)\n",
    "#    start = time.time()\n",
    "    kl_list_lorl.append([sim_3wk_clonogenic_assay([mu_prob[jj]], [n_steps[jj]] \n",
    "        , div_low=div_low_median, div_up=div_up, death_rate=death_rate, exp_data=lorl_ref_data[1:4], n_sim=n_sim\n",
    "        , saving=False, savename=\"pop\"+file_name[ii]+\"and\"+str(n_steps[jj])+\"_lorl\")[0] \n",
    "                    for jj in range(7)])\n",
    "#    end = time.time()\n",
    "#    print(end - start)"
   ]
  },
  {
   "cell_type": "code",
   "execution_count": 42,
   "metadata": {},
   "outputs": [
    {
     "name": "stdout",
     "output_type": "stream",
     "text": [
      "[[[0.05469320713246318, 0.037505760074914116, 0.019794309259781737], [0.054295647310801609, 0.037209002390798267, 0.022814360555899395], [0.055544278918850935, 0.037552048564581622, 0.02336146951715018], [0.055230059193527727, 0.037778993903136257, 0.02285963824903291], [0.055253687495523313, 0.037931955845255959, 0.023006381663962492], [0.054853326755903133, 0.037632587752083002, 0.023082063559077892], [0.054768097913108188, 0.036997682523309497, 0.022872897837210335]], [[0.054469705076706031, 0.037361397974923542, 0.015940458476100365], [0.055112591890122915, 0.037120177883964371, 0.014893959843891707], [0.05450177724433624, 0.036532494329624091, 0.019644576992068941], [0.056032086134170746, 0.041357420815203293, 0.022796529777950249], [0.055153993465829006, 0.037640414637362105, 0.02298806605731233], [0.055139279738799722, 0.036748366466333775, 0.02316698954943093], [0.054810926941909914, 0.036989612923340763, 0.022805425497575426]], [[0.054312123064632067, 0.036464603058988687, 0.013956542346526858], [0.054586175705094046, 0.03644282693172516, 0.013184196359332824], [0.055138761100347808, 0.035888145445459284, 0.016777316262582567], [0.054699745057604103, 0.036758765978328473, 0.020515535394577789], [0.05406425957574959, 0.037169801167898656, 0.023224221323225606], [0.055297452499076888, 0.037226998449872553, 0.023183176553291551], [0.053920558979896865, 0.037382799788151518, 0.022667591673190709]], [[0.054688288266683677, 0.035732754737665927, 0.012279110827848029], [0.053718464850235993, 0.03536944678939289, 0.011010570634060177], [0.053859772615869717, 0.034767062527939159, 0.013197892257028526], [0.054092446284499114, 0.035799975595016922, 0.020926794687599698], [0.054387122085932597, 0.03647498386238214, 0.022379848839441916], [0.053881692266482449, 0.036164828667315761, 0.023119193380155525], [0.054247036621568559, 0.036234290845476948, 0.023016110591645812]], [[0.052902852344382544, 0.035548727370374136, 0.010517694783311285], [0.05183733549108991, 0.032381638810681367, 0.0084107041659719009], [0.051688440148023984, 0.031070086518123801, 0.0099940906075783372], [0.052614398030881991, 0.033557500126939796, 0.01424578747187491], [0.052389302323421788, 0.034302924027304935, 0.018924142087861837], [0.052402520764498431, 0.033765732702436088, 0.019165602733508237], [0.052340808015997171, 0.03411633575649646, 0.018623734406727953]], [[0.051154113926301155, 0.033347670530693971, 0.0077406395970798757], [0.049034863709911163, 0.027660778195957202, 0.0053774143519600909], [0.046410845340549428, 0.024392747522029735, 0.0058786205961026969], [0.047547947830253776, 0.025368196440895562, 0.0086180916607434682], [0.047721629758097489, 0.027243680683411882, 0.013727631069218231], [0.051805171729953872, 0.031686449186676777, 0.01840450695723975], [0.052754604812796993, 0.034005400849218152, 0.019113269977245585]], [[0.049618346399823827, 0.029552671083087602, 0.005122972683822901], [0.044629409453386615, 0.02200146072915244, 0.0031627373739758617], [0.038971474210693108, 0.016640693917184417, 0.0025180773126672988], [0.037635329168857874, 0.015098089086286643, 0.0028114515110507763], [0.047948509341447794, 0.027547799455882409, 0.011685169701134096], [0.05160595500072316, 0.032478537909385409, 0.020631011634258452], [0.051644444637174075, 0.033897471717639592, 0.021484763845701093]], [[0.047583471865370125, 0.026163353961652001, 0.003247240401697851], [0.039388143877001458, 0.020936790702872649, 0.0025679988491981881], [0.032489293450359245, 0.019027159689677338, 0.0026851445467912798], [0.036355668581986696, 0.014095096874599311, 0.0023510658098713517], [0.047494287152294951, 0.027172411484731436, 0.011641745546838599], [0.051924724792906059, 0.032092002400779786, 0.017984523841855241], [0.05338367076036421, 0.034071390295798969, 0.021224587676267039]], [[0.045532143316820234, 0.026804464177971998, 0.0033450387503505476], [0.042278890248783271, 0.028398646218586919, 0.003706409264623151], [0.032584483291397855, 0.019223075580820342, 0.0027088851720774108], [0.036006654365225155, 0.014361825030757289, 0.0023064114864988256], [0.047916853497513394, 0.02721690229948568, 0.011588662569244625], [0.050738383990538823, 0.031747318752933934, 0.018013293684822983], [0.052740296503310732, 0.033812884970094277, 0.021333307731055799]], [[0.049791276743180075, 0.032661587515039801, 0.0039640154305236666], [0.042750292353385871, 0.029578354489222032, 0.0038064736305277831], [0.032157519802443406, 0.019175323604899538, 0.0026815240959735423], [0.036310334772658368, 0.014231391240921251, 0.002371234988019531], [0.04819139603907574, 0.02705346097188413, 0.014915060465419688], [0.051380532116927696, 0.031665790039061323, 0.020723763936741857], [0.05214837572998219, 0.034313813924013656, 0.018934812783255206]]]\n"
     ]
    }
   ],
   "source": [
    "# 2 directional poisson \n",
    "print(kl_list_lorl)"
   ]
  },
  {
   "cell_type": "code",
   "execution_count": 27,
   "metadata": {},
   "outputs": [
    {
     "name": "stdout",
     "output_type": "stream",
     "text": [
      "[[[0.049378035949864736, 0.03319197081269773, 0.02205613854507282], [0.050248736328446425, 0.0337648887568106, 0.019396360646661611], [0.049173525220709328, 0.033190287541573431, 0.021825835445643791], [0.049592902047202993, 0.033431772343075913, 0.022280256602211723], [0.049722427909291218, 0.033461328529818021, 0.019296770986822157], [0.049832041016593068, 0.033477329881922181, 0.022254076939032575], [0.049966069681826444, 0.03285456445173323, 0.021916126730649854]], [[0.049941148639543666, 0.032277567564069722, 0.014328568565839859], [0.048865912393591261, 0.032792265400425819, 0.014306824109287956], [0.04983553030055847, 0.033525737693485901, 0.019372135616722862], [0.050497887395907853, 0.033146054458883259, 0.022417307303825448], [0.049150210350900177, 0.033369367071934393, 0.022033931178614904], [0.049877045826182291, 0.033464031993889899, 0.022162037284401692], [0.049818739545840908, 0.033716486150936739, 0.019266062864357704]], [[0.049448395271138909, 0.032655902081569203, 0.013232530303895991], [0.0490119572369309, 0.032459080045798866, 0.012439951128862587], [0.049294847349881585, 0.032256986645760322, 0.013927339241367409], [0.049898355973690682, 0.033415196510137753, 0.021909780035290757], [0.049506369828435169, 0.032677423723543805, 0.019230034577691693], [0.048566311318503398, 0.033189957474620627, 0.019071651705933435], [0.049470195398682797, 0.033327830793853451, 0.021646095790966099]], [[0.048562652017828174, 0.031964145682273119, 0.01165823052577113], [0.04842205044362316, 0.031101987883204601, 0.010405561911808163], [0.049135032447001598, 0.030788038878346313, 0.011942818189619507], [0.048812350895892531, 0.031783529360585504, 0.01823954142190801], [0.049462242442398913, 0.031905677205078378, 0.021905882182234559], [0.048832820283715675, 0.03228474846959091, 0.018716845746449585], [0.048647982021506414, 0.032617129539132046, 0.021698630837815761]], [[0.047752028169298688, 0.030912727072576567, 0.0096489954363493946], [0.046899614872772943, 0.028836783259889236, 0.0080171754446167823], [0.046401398841224469, 0.028127383115221654, 0.0093273277885682487], [0.046913562481026468, 0.030021919656689246, 0.016496965940862984], [0.047729084163200097, 0.030181983400535656, 0.018149133322889022], [0.047324397151418458, 0.030408626113864808, 0.0177379529625642], [0.047734544927046769, 0.030260768366560092, 0.020720438929202833]], [[0.047188169736318571, 0.02910734036594962, 0.0070383300146651421], [0.044253718193125194, 0.024768861326251647, 0.0048865789699880638], [0.042486325254680629, 0.021966657134206237, 0.0053682702040049844], [0.042935166002443036, 0.022914199732807693, 0.0079185023306793476], [0.043250486412285599, 0.024030830835705581, 0.012884748364218258], [0.045714879339998765, 0.028819885366140774, 0.015868191913395755], [0.047143470499978225, 0.030251275998467452, 0.018016479278309443]], [[0.045616673837784331, 0.026979072603243476, 0.0048066025066813463], [0.040541304095167492, 0.020468485681942653, 0.0028741749060829987], [0.035331057885059559, 0.014953736647584526, 0.0022067632415945912], [0.033977934397490188, 0.012862777109444492, 0.0023464210404296939], [0.043137575188910725, 0.023951400596357367, 0.011250710344650592], [0.046405862725240235, 0.027905639763058737, 0.017052055530695109], [0.047184453091040669, 0.030885780885579067, 0.021477017501517478]], [[0.043434589555406966, 0.023907037543899601, 0.0030773538801947293], [0.037444369520858015, 0.019928823051223156, 0.0026568641264507436], [0.030097361514244695, 0.019218358890935962, 0.0030807881672043481], [0.032737159960652761, 0.012209806725393114, 0.0019786610407457887], [0.043456446164342397, 0.023781256163766341, 0.011049786529306906], [0.046785032172117783, 0.028522217039112542, 0.017068105610372461], [0.048143941172485265, 0.030132443277381245, 0.017907533457226177]], [[0.043088569998971489, 0.026366625548371315, 0.0035150795545178539], [0.040596590718588205, 0.030282814617832748, 0.0042488889463537342], [0.030284889592765027, 0.019386527335688943, 0.0030973872411150611], [0.033052027746181066, 0.012355226948078116, 0.0019503997235563043], [0.043469972281272078, 0.02375325724299817, 0.013211880505651575], [0.047277537207285628, 0.028806369375183282, 0.015636594523365438], [0.047524510192066854, 0.030301292741089132, 0.017930136268696082]], [[0.047984521664996609, 0.034162802976844604, 0.00443608578570839], [0.042093637665585243, 0.031436668504820055, 0.0043945457102524963], [0.030488548199052855, 0.019139734900321826, 0.0030944024734270632], [0.033970486122247373, 0.012361234532843582, 0.001956242922215494], [0.043292998611924809, 0.024127709799169179, 0.012829848045090323], [0.046188812358037373, 0.028859017490745285, 0.017354889460335761], [0.047859615840311093, 0.030298511509765681, 0.017893742823703027]]]\n"
     ]
    }
   ],
   "source": [
    "# 1 directional poisson \n",
    "print(kl_list_lorl)"
   ]
  },
  {
   "cell_type": "code",
   "execution_count": 43,
   "metadata": {},
   "outputs": [
    {
     "data": {
      "image/png": "[encoded data removed]",
      "text/plain": [
       "<matplotlib.figure.Figure at 0x1a15e6f198>"
      ]
     },
     "metadata": {},
     "output_type": "display_data"
    }
   ],
   "source": [
    "# figure\n",
    "kl_list = np.transpose(kl_list_lorl)\n",
    "vmin, vmax = .02, .1\n",
    "fig, axes = plt.subplots(2,2)\n",
    "axes[0,0].imshow(np.transpose(kl_list[0])[::-1], vmin=vmin, vmax=vmax, cmap='Blues')\n",
    "\n",
    "axes[0,1].imshow(np.transpose(kl_list[1])[::-1], vmin=vmin, vmax=vmax, cmap='Blues')\n",
    "\n",
    "axes[1,0].imshow(np.transpose(kl_list[2])[::-1], vmin=vmin, vmax=vmax, cmap='Blues')\n",
    "\n",
    "im = axes[1,1].imshow(np.transpose(kl_list[0]+kl_list[1]+kl_list[2])[::-1], vmin=vmin, vmax=vmax, cmap='Blues')\n",
    "\n",
    "[(a.set_xticks(np.arange(7)),\n",
    "  a.set_yticks(np.arange(10)),\n",
    "  a.set_xticklabels([\"  1\",\"  3\",\" 10\",\" 30\",\" 100\",\" 200\",\" 300\"], fontsize=7),\n",
    "  a.set_yticklabels([\"1\",\"0.3\",\"0.1\",\"0.03\",\"0.01\",\"0.003\",\"0.001\",\"0.0003\",\"0.0001\",\"0\"], fontsize=7),\n",
    "  plt.setp(a.get_xticklabels(), rotation=90, ha=\"right\", rotation_mode=\"anchor\"), \n",
    "  a.set_xlabel(\"n_step\"), \n",
    "  a.set_ylabel(\"mu_1\")) for a in [axes[0,0],axes[0,1],axes[1,0],axes[1,1]]]\n",
    "\n",
    "axes[0,0].set_title(\"Week 1\")\n",
    "axes[0,1].set_title(\"Week 2\")\n",
    "axes[1,0].set_title(\"Week 3\")\n",
    "axes[1,1].set_title(\"All weeks\")\n",
    "\n",
    "fig.tight_layout()\n",
    "\n",
    "fig.colorbar(im, ax=axes.ravel().tolist(), shrink=0.5)\n",
    "\n",
    "#plt.savefig('lorl_heatmap.eps' ,  bbox_inches='tight' , format='eps', dpi=400)\n",
    "plt.savefig('lorl_heatmap.png' ,  bbox_inches='tight' , format='eps', dpi=400)\n",
    "plt.show()"
   ]
  },
  {
   "cell_type": "code",
   "execution_count": null,
   "metadata": {},
   "outputs": [],
   "source": []
  }
 ],
 "metadata": {
  "kernelspec": {
   "display_name": "Python 3",
   "language": "python",
   "name": "python3"
  },
  "language_info": {
   "codemirror_mode": {
    "name": "ipython",
    "version": 3
   },
   "file_extension": ".py",
   "mimetype": "text/x-python",
   "name": "python",
   "nbconvert_exporter": "python",
   "pygments_lexer": "ipython3",
   "version": "3.6.3"
  }
 },
 "nbformat": 4,
 "nbformat_minor": 2
}
