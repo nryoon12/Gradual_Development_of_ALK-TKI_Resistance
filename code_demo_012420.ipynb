{
 "cells": [
  {
   "cell_type": "markdown",
   "metadata": {},
   "source": [
    "$\\large{\\textbf{Packages}}$"
   ]
  },
  {
   "cell_type": "code",
   "execution_count": 1,
   "metadata": {},
   "outputs": [],
   "source": [
    "#from __future__ import division, print_function\n",
    "import numpy as np\n",
    "import math\n",
    "from scipy.stats import truncnorm\n",
    "from copy import deepcopy\n",
    "import matplotlib.pyplot as plt\n",
    "import matplotlib.gridspec as gridspec\n",
    "from matplotlib import colors\n",
    "import pickle\n",
    "import pandas as pd\n",
    "import seaborn as sns\n",
    "import time"
   ]
  },
  {
   "cell_type": "markdown",
   "metadata": {},
   "source": [
    "$\\large{\\textbf{Data}}$"
   ]
  },
  {
   "cell_type": "code",
   "execution_count": 3,
   "metadata": {},
   "outputs": [],
   "source": [
    "###############################################\n",
    "#experimental data; crizotinib and lorlatinib #\n",
    "###############################################\n",
    "\n",
    "#data = pd.read_excel(open('/Users/yoonn/Dropbox/Cancer/ALK-TKI/Gradual_Development_of_ALK-TKI_Resistance/GradualColonies.xlsx','rb'), sheetname='Sheet1',index_col=False)\n",
    "data = pd.read_excel(open('GradualColonies.xlsx','rb'), sheetname='Sheet1',index_col=False)\n",
    "criz_data=np.array([data[name][1:] for name in [\"Crizotinib\",\"Unnamed: 1\",\"Unnamed: 2\",\"Unnamed: 3\",\"Unnamed: 4\"]])\n",
    "lorl_data=np.array([data[name][1:] for name in [\"Lorlatinib\",\"Unnamed: 7\",\"Unnamed: 8\",\"Unnamed: 9\",\"Unnamed: 10\"]])\n",
    "\n",
    "criz_ref_data = [[round(a) for a in data[np.where(data>0)]/200] for data in criz_data]\n",
    "lorl_ref_data = [[round(a) for a in data[np.where(data>0)]/200] for data in lorl_data]"
   ]
  },
  {
   "cell_type": "code",
   "execution_count": 4,
   "metadata": {},
   "outputs": [
    {
     "data": {
      "image/png": "[encoded data removed]",
      "text/plain": [
       "<matplotlib.figure.Figure at 0x1a13591c88>"
      ]
     },
     "metadata": {},
     "output_type": "display_data"
    }
   ],
   "source": [
    "#########################################\n",
    "# data visualization; 2-legend barchart #\n",
    "#########################################\n",
    "\n",
    "def swarm_xyz(dataZ, ticksX, ticksY, labels=[\"x\",\"y\",\"z\"]\n",
    "             , zrange=False, logZ=True\n",
    "             , save=False, filename=\"save\"):\n",
    "\n",
    "    i, j = len(dataZ), len(dataZ[0])\n",
    "    if len(ticksX)!=i or len(ticksY)!=j:\n",
    "        print(\"data dimention is inconsistent\")\n",
    "\n",
    "    else:\n",
    "        df = pd.DataFrame()\n",
    "        \n",
    "        x_list, y_list, z_list = [], [], []\n",
    "        for ii in range(i):\n",
    "            for jj in range(j):\n",
    "                x_list.extend([ticksX[ii]]*len(dataZ[ii][jj]))\n",
    "                y_list.extend([ticksY[jj]]*len(dataZ[ii][jj]))\n",
    "                z_list.extend(dataZ[ii][jj])\n",
    "        \n",
    "        df[labels[0]] = x_list\n",
    "        df[labels[1]] = y_list\n",
    "        df[labels[2]] = z_list\n",
    "        \n",
    "        sns.set(style=\"ticks\")\n",
    "        sns.boxplot(x=labels[1], y=labels[2], hue=labels[0], data=df, dodge=True\n",
    "                     )\n",
    "        sns.despine(offset=10, trim=True)\n",
    "        if logZ:\n",
    "            plt.yscale('log')\n",
    "        if zrange:\n",
    "            plt.ylim(zrange[0], zrange[1])\n",
    "        if save:\n",
    "            plt.savefig(save+'.png' ,  bbox_inches='tight' , dpi=400)\n",
    "        plt.show()\n",
    "        \n",
    "swarm_xyz([criz_ref_data, lorl_ref_data], [\"criz\",\"lorl\"], [\"wk0\",\"wk1\",\"wk2\",\"wk3\",\"res\"], \n",
    "          labels=[\"Drug\",\"week\",\"population\"], zrange=[4, 220], logZ=True)"
   ]
  },
  {
   "cell_type": "markdown",
   "metadata": {},
   "source": [
    "$\\large{\\textbf{Functions}}$"
   ]
  },
  {
   "cell_type": "code",
   "execution_count": 5,
   "metadata": {},
   "outputs": [],
   "source": [
    "####################################################################################\n",
    "# Cellular Automaton model (CA); updating all the existing cells to next time step #\n",
    "####################################################################################\n",
    "\n",
    "def div(grid # n-by-n array filled with 0 (empty space) and 1 (taken by a cell)\n",
    "        , div_rate # n-by-n array indicating division rates for existing cells and 0 for empty spots\n",
    "        , step # n-by-n array indicating mutation status (an integer in [0,n_step]) for existing cells and 0 for empty spots\n",
    "        , mu_rate # mutation rates\n",
    "        , div_range=[0.1, 0.9] # range of division rates [d0,d1]\n",
    "        , death_rate=0.01 #death rate\n",
    "        , n_step=1 # number of steps required to reach from d0 to d1\n",
    "        , rand_div_inc=3 # degree of randomness in division rate increase\n",
    "       ):\n",
    "\n",
    "    cell_list = np.nonzero( grid==1 ) # positions of existing cells on \"grid\"\n",
    "    \n",
    "    div_step = (div_range[1]-div_range[0])/n_step # increase in division rate per mutation\n",
    "    N = len( cell_list[0] ) # number of existing cells\n",
    "    indices = np.arange( N ) # indices of the N cells\n",
    "    rand_indices = np.random.permutation( indices ) # random suffling of the indices \n",
    "\n",
    "    for cnum in rand_indices:\n",
    "        row = cell_list[0][cnum]\n",
    "        col = cell_list[1][cnum]\n",
    "\n",
    "        rand = np.random.rand()\n",
    "        if rand < death_rate: # if 'yes', the cell dies. \n",
    "            grid[row, col] = 0 \n",
    "            div_rate[row, col] = 0.\n",
    "            step[row, col] = 0 \n",
    "            \n",
    "        elif (rand-death_rate) < div_rate[row,col]: # else if 'yes', it can divide.\n",
    "            search_grid = deepcopy(grid)                           \n",
    "            search_grid[row, col] = 2\n",
    "\n",
    "            empty = np.nonzero( search_grid[ max(row-1,0) : min(row+2,len(grid)) , max(col-1,0) : min(col+2,len(grid)) ]==0 )\n",
    "            org_ind = np.nonzero( search_grid[ max(row-1,0) : min(row+2,len(grid)) , max(col-1,0) : min(col+2,len(grid)) ]==2 )\n",
    "\n",
    "            empty2 = np.nonzero( search_grid[ max(row-2,0) : min(row+3,len(grid)) , max(col-2,0) : min(col+3,len(grid)) ]==0 )\n",
    "            org_ind2 = np.nonzero( search_grid[ max(row-2,0) : min(row+3,len(grid)) , max(col-2,0) : min(col+3,len(grid)) ]==2 )\n",
    "\n",
    "            if len( empty[0] ) > 0:  # if 'yes' (if there is an exmpty neighboring spot), it will divide to the spot.\n",
    "                rand = np.random.randint( len(empty[0]) )\n",
    "                nhb_ind = [empty[0][rand], empty[1][rand]]\n",
    "\n",
    "                row_new, col_new = row+nhb_ind[0]-org_ind[0], col+nhb_ind[1]-org_ind[1]\n",
    "                grid[row_new, col_new] = 1\n",
    "\n",
    "                rand = np.random.rand()\n",
    "                if step[row, col] < n_step and rand < mu_rate: # if 'yes', mutation will occur during the division.\n",
    "                    rand_inc = (truncnorm.rvs(-rand_div_inc, rand_div_inc, size=2)/rand_div_inc*2 + 1) * div_step\n",
    "#                    rand_inc = (truncnorm.rvs(-rand_div_inc, rand_div_inc, size=2)/rand_div_inc + 1) * div_step\n",
    "                    div_new = np.clip(div_rate[row,col]+rand_inc, div_range[0], div_range[1])\n",
    "                    div_rate[row, col], div_rate[row_new, col_new] = div_new\n",
    "                    \n",
    "                    step[row_new, col_new] = step[row, col] + 1\n",
    "                    step[row, col] += 1\n",
    "                else: # else, no mutation will occur.\n",
    "                    div_rate[row_new, col_new] = div_rate[row, col] \n",
    "                    step[row_new, col_new] = step[ row , col ]\n",
    "                    \n",
    "            elif len( empty2[0] ) > 0: # else if there is an exmpty spot right beyond neighborhood, it will push and divide to the spot.\n",
    "                rand = np.random.randint( len(empty2[0]) )\n",
    "                nhb_ind = [empty2[0][rand], empty2[1][rand]]\n",
    "\n",
    "                row_new, col_new = row+nhb_ind[0]-org_ind2[0], col+nhb_ind[1]-org_ind2[1]\n",
    "                row_push, col_push = np.clip(row_new, row-1, row+1), np.clip(col_new, col-1, col+1)\n",
    "                grid[row_new, col_new] = 1\n",
    "                \n",
    "                rand = np.random.rand()\n",
    "                if step[row, col] < n_step and rand < mu_rate: # if 'yes', mutation will occur during the division.\n",
    "                    rand_inc = (truncnorm.rvs(-rand_div_inc, rand_div_inc, size=2)/rand_div_inc*2 + 1) * div_step\n",
    "#                    rand_inc = (truncnorm.rvs(-rand_div_inc, rand_div_inc, size=2)/rand_div_inc + 1) * div_step\n",
    "                    div_new = np.clip(div_rate[row,col]+rand_inc, div_range[0], div_range[1])\n",
    "                                        \n",
    "                    div_rate[row_new, col_new] = div_rate[row_push, col_push]                    \n",
    "                    div_rate[row, col], div_rate[row_push, col_push] = div_new\n",
    "                    \n",
    "                    step[row_new, col_new] = step[row_push, col_push]\n",
    "                    step[row_push, col_push] = step[row, col] + 1\n",
    "                    step[row, col] += 1\n",
    "                else: # else, no mutation will occur.\n",
    "                    div_rate[row_new, col_new] = div_rate[row_push, col_push]                    \n",
    "                    div_rate[row_push, col_push] = div_rate[row,col] \n",
    "                    \n",
    "                    step[row_new, col_new] = step[row_push, col_push]\n",
    "                    step[row_push, col_push] = step[row, col]\n",
    "\n",
    "    return grid.copy(), div_rate.copy(), step.copy()"
   ]
  },
  {
   "cell_type": "code",
   "execution_count": 6,
   "metadata": {},
   "outputs": [],
   "source": [
    "#####################################################################################################\n",
    "# CA; simulation of cell culture over 'grid_size'-by-'grid_size' grid as long as 'n_gen' time steps #\n",
    "#####################################################################################################\n",
    "\n",
    "def run_automaton( grid_size=100 # grid shape: square grid of 'grid_size' by 'grid_size'\n",
    "                  , n_gen=100 # number of time steps to run\n",
    "                  , n_snap=6 # number of time points at which simulation is recorded \n",
    "                  , mu_rate=0.1 # (same to the input of function(s) above)\n",
    "                  , div_range=[0.1, 0.9] # (same to the input of function(s) above)\n",
    "                  , death_rate=0.01 # death rate\n",
    "                  , n_step=8 # (same to the input of function(s) above)\n",
    "                  , rand_div_inc=3 # degree of randomness in division rate increase\n",
    "                  , ini_div=0.1 # division rate at the initiation of the simulation\n",
    "                  , ini_step=0 # step of mutation at the initiation of the simulation\n",
    "                 ): \n",
    "    \n",
    "    # initiation of grid\n",
    "    grid = np.zeros( [ grid_size , grid_size ] )\n",
    "    center = int( grid_size / 2 )\n",
    "    grid[center, center] = 1\n",
    "    \n",
    "    div_rate = deepcopy(ini_div*grid)\n",
    "    step = deepcopy(ini_step*grid)\n",
    "\n",
    "    microenv_list = [ deepcopy([0, grid, div_rate, step]) ]\n",
    "    \n",
    "    # generate a sequence of time points to record\n",
    "    if n_snap is not None:\n",
    "        mfig = np.int_( np.linspace(0, n_gen, n_snap, endpoint=True) )\n",
    "    else:\n",
    "        mfig = []\n",
    "\n",
    "    # run CA simulation\n",
    "    for gen in range(1, n_gen+1):\n",
    "        grid, div_rate, step = div( grid=grid , div_rate=div_rate , step=step , mu_rate=mu_rate, div_range=div_range\n",
    "                             , death_rate=death_rate, n_step=n_step, rand_div_inc=rand_div_inc)\n",
    "            \n",
    "        # save simulation\n",
    "        if gen in mfig:\n",
    "            microenv_list.append( deepcopy([gen, grid, div_rate, step]) )\n",
    "    \n",
    "    return deepcopy(microenv_list)"
   ]
  },
  {
   "cell_type": "code",
   "execution_count": 7,
   "metadata": {},
   "outputs": [],
   "source": [
    "#################################################################################\n",
    "# run multiple CA simulations as many as \"n_sim\" per each evolutionary scenario #\n",
    "#################################################################################\n",
    "\n",
    "def run_multiple( n_sim=10000 # number of simulations for each evolutionary scenario \n",
    "                 , grid_size=100 # (same to the input of function(s) above)\n",
    "                 , n_gen=100 # (same to the input of function(s) above)\n",
    "                 , n_snap=6 # (same to the input of function(s) above)\n",
    "                 , mu_prob=[0.008, 0.08, 0.8] # three different evolutionary scenarios represented by different mutation rates\n",
    "                 , div_low=0.3 # lower limites of division rate (fixed)\n",
    "                 , div_up=[0.5,0.7] # possible options of upper limit of division rates \n",
    "                 , death_rate=0.01 # death rate\n",
    "                 , n_steps=[1, 10, 100] # corresponding number of steps for the three scenarios \n",
    "                 , rand_div_inc=3 # degree of randomness in division rate increase\n",
    "                 , pickling=False , picklename=\"save\" # save simulation results\n",
    "                 , ini_div = 0.1 # (same to the input of function(s) above)\n",
    "                 , ini_step = 0 # (same to the input of function(s) above)\n",
    "                ): \n",
    "\n",
    "    # (start here)initiation of data including cells occupying\"grid\"  \"division rates\"\n",
    "    microenv_lists = [[[] for i in range(len(mu_prob))] for j in range(n_sim)]\n",
    "    \n",
    "    # iteration for all the scenarios\n",
    "    for j in range(len(mu_prob)):\n",
    "        # iteration for the \"n_sim\" replicates\n",
    "        for i in range(n_sim):\n",
    "            microenv_lists[i][j] = run_automaton( grid_size=grid_size , n_gen=n_gen , n_snap=n_snap\n",
    "                                                   , mu_rate=mu_prob[j], div_range=[div_low, div_up[i]]\n",
    "                                                   , death_rate=death_rate, n_step=n_steps[j], rand_div_inc=rand_div_inc \n",
    "                                                   , ini_div = ini_div, ini_step = ini_step)\n",
    "    # save (no not)\n",
    "    if pickling:\n",
    "        pickle.dump( [div_up, microenv_lists], open( picklename + \".p\", \"wb\" ) )\n",
    "        \n",
    "    return deepcopy([div_up, microenv_lists])"
   ]
  },
  {
   "cell_type": "code",
   "execution_count": 8,
   "metadata": {},
   "outputs": [],
   "source": [
    "###########################################################\n",
    "# clonogenic assay with cells of 1-, 2-, 3-week exposures #\n",
    "###########################################################\n",
    "\n",
    "def sim_3wk_clonogenic_assay(mu_prob # (same to the input of function(s) above)\n",
    "                             , n_steps # (same to the input of function(s) above) \n",
    "                             , div_low=0.13 # (same to the input of function(s) above)\n",
    "                             , div_up=0.5 # (same to the input of function(s) above)\n",
    "                             , death_rate=0.01 # death rate\n",
    "                             , rand_div_inc=3 # degree of randomness in division rate increase\n",
    "                             , exp_data=criz_ref_data[1:4] # reference data to be compared with the simulation results\n",
    "                             , n_sim=100000 # (same to the input of function(s) above)\n",
    "                             , saving=False, savename=\"name\" # (same to the input of function(s) above)\n",
    "                            ):\n",
    "    n_gen = 3*9 # CA simulation over 9 time points for each of 3 weeks\n",
    "    n_snap = 4\n",
    "    \n",
    "    # CA simulation\n",
    "    microenv_list_all = run_multiple( n_sim=n_sim , grid_size=grid_size , n_gen=n_gen , n_snap=n_snap\n",
    "                , mu_prob=mu_prob, div_low=div_low, div_up=div_up\n",
    "                , death_rate=death_rate, n_steps=n_steps, rand_div_inc=rand_div_inc, pickling=False , picklename=\"save\"\n",
    "                , ini_div = div_low, ini_step = 0)\n",
    "    \n",
    "    n_gen = 9 # CA simulation over 9 time steps for a week of clonogenic assay\n",
    "    n_snap = 2 \n",
    "    dt = [[[0 for k in range(n_sim)] for i in range(3)] for j in range(len(mu_prob))]\n",
    "    for i in range(n_sim):\n",
    "        for j in range(len(mu_prob)):\n",
    "            for k in range(1,4):\n",
    "                grid, div_rate, step = microenv_list_all[1][i][j][k][1:]\n",
    "                ind_old = np.where(grid!=0)\n",
    "                if len(ind_old[0])>0:\n",
    "                    rand_ind = np.random.choice(len(ind_old[0]))\n",
    "                    ind = ind_old[0][rand_ind], ind_old[1][rand_ind]\n",
    "                    result_list = run_automaton( grid_size=grid_size , n_gen=n_gen , n_snap=n_snap\n",
    "                     , mu_rate=mu_prob[j], div_range=[div_low, div_up[i]]\n",
    "                     , death_rate=death_rate, n_step=n_steps[j], rand_div_inc=rand_div_inc \n",
    "                     , ini_div=div_rate[ind], ini_step=step[ind])\n",
    "                    dt[j][k-1][i] = np.sum(result_list[-1][1])\n",
    "                else:\n",
    "                    dt[j][k-1][i] = 0\n",
    "                    \n",
    "\n",
    "    #Comparison between reference data (\"exp_data\") and simulation results with KL divergence\n",
    "    dt = dt+[exp_data]\n",
    "    kl_list = [[0 for j in range(3)] for i in range(len(mu_prob))]\n",
    "    for i in range(len(mu_prob)):\n",
    "        for j in range(3):\n",
    "#            kl_list[i][j] = kl_mean(dt[i][j],exp_data[j], low=5, n=50000)\n",
    "            kl_list[i][j] = kl(exp_data[j], dt[i][j])\n",
    "\n",
    "    if saving:\n",
    "        df = pd.DataFrame()\n",
    "        ticksX=n_steps\n",
    "        ticksY=[1,2,3]\n",
    "        x_list, y_list, z_list = [], [], []\n",
    "        for ii in range(len(mu_prob)):\n",
    "            for jj in range(3):\n",
    "                x_list.extend([ticksX[ii]]*n_sim)\n",
    "                y_list.extend([ticksY[jj]]*n_sim)\n",
    "                z_list.extend(dt[ii][jj])\n",
    "        df[\"n_step\"] = x_list\n",
    "        df[\"week\"] = y_list\n",
    "        df[\"population\"] = z_list\n",
    "        \n",
    "        writer = pd.ExcelWriter( savename + '.xlsx', engine='xlsxwriter')\n",
    "        df.to_excel(writer, sheet_name='Sheet1')\n",
    "\n",
    "    return kl_list"
   ]
  },
  {
   "cell_type": "code",
   "execution_count": 9,
   "metadata": {},
   "outputs": [],
   "source": [
    "#############################################################################\n",
    "# comparison between two distributions based on kullback leibler divergence #\n",
    "#############################################################################\n",
    "\n",
    "def kl(p, q, low=0, n_bin=10):\n",
    "    p, q = np.array(p), np.array(q)\n",
    "    p, q = p[np.where(p>=low)], q[np.where(q>=low)]\n",
    "    \n",
    "    m, M = [min(p), max(p)]\n",
    "    bin_wt = (M-m)/(n_bin-1)\n",
    "    bin_ends = np.arange(m,M+2*bin_wt,bin_wt)\n",
    "    \n",
    "    p, q = np.clip(p, m, M), np.clip(q, m, M)\n",
    "    \n",
    "    p_hist, bin_edges = np.histogram(p, bins=bin_ends, density=True)\n",
    "    q_hist, bin_edges = np.histogram(q, bins=bin_ends, density=True)\n",
    "    p_hist, q_hist = np.clip([p_hist, q_hist], 10**(-10), math.inf)\n",
    "\n",
    "    return np.mean(p_hist*np.log10(p_hist / q_hist))"
   ]
  },
  {
   "cell_type": "markdown",
   "metadata": {},
   "source": [
    "$\\large{\\textbf{Estimation of the upper level of division rates (d1)}}$"
   ]
  },
  {
   "cell_type": "code",
   "execution_count": 15,
   "metadata": {},
   "outputs": [],
   "source": [
    "t_fin = 9\n",
    "#n_sim = 100000\n",
    "n_sim = 100\n",
    "grid_size = 20\n",
    "i_time = 9\n",
    "rand_div_inc = 3"
   ]
  },
  {
   "cell_type": "code",
   "execution_count": 41,
   "metadata": {},
   "outputs": [
    {
     "name": "stdout",
     "output_type": "stream",
     "text": [
      "297.0218162536621\n"
     ]
    }
   ],
   "source": [
    "# relationship between (i) (fixed) division rate and (ii) expected colony size\n",
    "div_rates = np.arange(0.01,1.,0.01) # discrete values of division rate\n",
    "death_rate=0.\n",
    "#death_rate=0.01\n",
    "\n",
    "pop_fin = []\n",
    "#simulation to generate multiple, random colony sizes after 1-week-long clonogenic assay \n",
    "start = time.time()\n",
    "for div_rate in div_rates:\n",
    "    pop_stoch_hist = []\n",
    "    for i in range(500):\n",
    "        microenv_list = run_automaton(grid_size=grid_size, n_gen=t_fin, n_snap=2\n",
    "                , mu_rate=0.0, div_range=[div_rate, div_rate]\n",
    "                , death_rate=death_rate, n_step=1, rand_div_inc=rand_div_inc\n",
    "                , ini_div=div_rate, ini_step=0)\n",
    "        pop_stoch_hist.append(np.sum(microenv_list[-1][1]))\n",
    "        \n",
    "    # 0%, 25%, 50% (median), 75%, 100% quantiles of the distribution of colony sizes\n",
    "    pop_fin.append(np.percentile(np.array(pop_stoch_hist),[0,25,50,75,100]))\n",
    "end = time.time()\n",
    "print(end - start)"
   ]
  },
  {
   "cell_type": "code",
   "execution_count": 17,
   "metadata": {},
   "outputs": [
    {
     "data": {
      "image/png": "[encoded data removed]",
      "text/plain": [
       "<matplotlib.figure.Figure at 0x1a1c0688d0>"
      ]
     },
     "metadata": {},
     "output_type": "display_data"
    }
   ],
   "source": [
    "# graph\n",
    "plt.plot(div_rates,pop_fin,'k--',linewidth=1)\n",
    "plt.plot(div_rates,[a[2] for a in pop_fin],'b',linewidth=2)\n",
    "plt.xlabel('Division rate')\n",
    "plt.ylabel('Final population')\n",
    "#plt.savefig('d1_fun.eps' ,  bbox_inches='tight' , format='eps', dpi=400)\n",
    "#plt.savefig('d1_fun.png' ,  bbox_inches='tight' , dpi=400)\n",
    "plt.show()"
   ]
  },
  {
   "cell_type": "code",
   "execution_count": 18,
   "metadata": {},
   "outputs": [],
   "source": [
    "# Estimation of d1, based on the relationship and the experimental colony size data of \"resistant cell\" (\"criz_ref_data\" and \"lorl_ref_data\") \n",
    "criz_d1, lorl_d1 = [[np.interp(a, [a[2] for a in pop_fin], div_rates) for a in dt]\n",
    "                                      for dt in [criz_ref_data[-1], lorl_ref_data[-1]]]"
   ]
  },
  {
   "cell_type": "markdown",
   "metadata": {},
   "source": [
    "$\\large{\\textbf{Clonogenic assay simulations (crizotinib)}}$"
   ]
  },
  {
   "cell_type": "code",
   "execution_count": 35,
   "metadata": {},
   "outputs": [],
   "source": [
    "# model parameters\n",
    "n_sim = 100\n",
    "#n_sim = 100000\n",
    "n_gen = i_time\n",
    "n_snap = 2\n",
    "div_low_median=0.13 # for crizotinib\n",
    "div_up=np.random.choice(criz_d1,n_sim) # for crizotinib\n",
    "death_rate=0.\n",
    "#death_rate=0.01\n",
    "rand_div_inc=3\n",
    "n_steps = [1,3,10,30,100,200,300] # 7 different evolution steps\n",
    "mu1_list = [0., 0.0001, 0.0003, 0.001, 0.003, 0.01, 0.03, 0.1, 0.3, 1.]\n",
    "file_name = [\"0\",\"p0001\",\"p0003\",\"p001\",\"p003\",\"p01\",\"p03\",\"p1\",\"p3\",\"1\"]"
   ]
  },
  {
   "cell_type": "code",
   "execution_count": 36,
   "metadata": {},
   "outputs": [
    {
     "name": "stdout",
     "output_type": "stream",
     "text": [
      "81.08578324317932\n"
     ]
    }
   ],
   "source": [
    "#KL evaluations over ranges of \"mu1\" and \"n_step\"\n",
    "kl_list_criz = []\n",
    "\n",
    "start = time.time()\n",
    "for ii, mu1 in enumerate(mu1_list):\n",
    "    mu_prob = np.clip([mu1*a for a in n_steps],0,1)\n",
    "    kl_list_criz.append([sim_3wk_clonogenic_assay([mu_prob[jj]], [n_steps[jj]]\n",
    "        , div_low=div_low_median, div_up=div_up, death_rate=death_rate, exp_data=lorl_ref_data[1:4], n_sim=n_sim\n",
    "        , saving=False, savename=\"pop\"+file_name[ii]+\"and\"+str(n_steps[jj]))[0] \n",
    "                    for jj in range(7)])\n",
    "end = time.time()\n",
    "print(end - start)"
   ]
  },
  {
   "cell_type": "code",
   "execution_count": 37,
   "metadata": {},
   "outputs": [
    {
     "data": {
      "image/png": "[encoded data removed]",
      "text/plain": [
       "<matplotlib.figure.Figure at 0x1a13844cc0>"
      ]
     },
     "metadata": {},
     "output_type": "display_data"
    }
   ],
   "source": [
    "# figure\n",
    "kl_list = np.transpose(kl_list_criz)\n",
    "vmin, vmax = .02, .07\n",
    "fig, axes = plt.subplots(2,2)\n",
    "axes[0,0].imshow(np.transpose(kl_list[0])[::-1], vmin=vmin, vmax=vmax, cmap='Reds')\n",
    "\n",
    "axes[0,1].imshow(np.transpose(kl_list[1])[::-1], vmin=vmin, vmax=vmax, cmap='Reds')\n",
    "\n",
    "axes[1,0].imshow(np.transpose(kl_list[2])[::-1], vmin=vmin, vmax=vmax, cmap='Reds')\n",
    "\n",
    "im = axes[1,1].imshow(np.transpose(kl_list[0]+kl_list[1]+kl_list[2])[::-1], vmin=vmin, vmax=vmax, cmap='Reds')\n",
    "\n",
    "[(a.set_xticks(np.arange(7)),\n",
    "  a.set_yticks(np.arange(10)),\n",
    "  a.set_xticklabels([\"  1\",\"  3\",\" 10\",\" 30\",\" 100\",\" 200\",\" 300\"], fontsize=7),\n",
    "  a.set_yticklabels([\"1\",\"0.3\",\"0.1\",\"0.03\",\"0.01\",\"0.003\",\"0.001\",\"0.0003\",\"0.0001\",\"0\"], fontsize=7),\n",
    "  plt.setp(a.get_xticklabels(), rotation=90, ha=\"right\", rotation_mode=\"anchor\"), \n",
    "  a.set_xlabel(\"n_step\"), \n",
    "  a.set_ylabel(\"mu_1\")) for a in [axes[0,0],axes[0,1],axes[1,0],axes[1,1]]]\n",
    "\n",
    "axes[0,0].set_title(\"Week 1\")\n",
    "axes[0,1].set_title(\"Week 2\")\n",
    "axes[1,0].set_title(\"Week 3\")\n",
    "axes[1,1].set_title(\"All weeks\")\n",
    "\n",
    "fig.tight_layout()\n",
    "\n",
    "fig.colorbar(im, ax=axes.ravel().tolist(), shrink=0.5)\n",
    "\n",
    "#plt.savefig('criz_heatmap.eps' ,  bbox_inches='tight' , format='eps', dpi=400)\n",
    "plt.savefig('criz_heatmap.png' ,  bbox_inches='tight' , format='eps', dpi=400)\n",
    "plt.show()"
   ]
  },
  {
   "cell_type": "markdown",
   "metadata": {},
   "source": [
    "$\\large{\\textbf{Clonogenic assay simulations (loratinib)}}$"
   ]
  },
  {
   "cell_type": "code",
   "execution_count": 38,
   "metadata": {},
   "outputs": [],
   "source": [
    "# model parameters\n",
    "#n_sim = 100000\n",
    "n_sim = 100\n",
    "n_gen = i_time\n",
    "n_snap = 2\n",
    "div_low_median=0.1 # for crizotinib\n",
    "div_up=np.random.choice(lorl_d1,n_sim) # for crizotinib\n",
    "death_rate=0.\n",
    "#death_rate=0.01\n",
    "rand_div_inc=3\n",
    "n_steps = [1,3,10,30,100,200,300] # 7 different evolution steps\n",
    "mu1_list = [0., 0.0001, 0.0003, 0.001, 0.003, 0.01, 0.03, 0.1, 0.3, 1.]\n",
    "file_name = [\"0\",\"p0001\",\"p0003\",\"p001\",\"p003\",\"p01\",\"p03\",\"p1\",\"p3\",\"1\"]"
   ]
  },
  {
   "cell_type": "code",
   "execution_count": 39,
   "metadata": {},
   "outputs": [
    {
     "name": "stdout",
     "output_type": "stream",
     "text": [
      "72.62473487854004\n"
     ]
    }
   ],
   "source": [
    "#KL evaluations over ranges of \"mu1\" and \"n_step\"\n",
    "kl_list_lorl = []\n",
    "\n",
    "start = time.time()\n",
    "for ii, mu1 in enumerate(mu1_list):\n",
    "    mu_prob = np.clip([mu1*a for a in n_steps],0,1)\n",
    "    kl_list_lorl.append([sim_3wk_clonogenic_assay([mu_prob[jj]], [n_steps[jj]] \n",
    "        , div_low=div_low_median, div_up=div_up, death_rate=death_rate, exp_data=lorl_ref_data[1:4], n_sim=n_sim\n",
    "        , saving=False, savename=\"pop\"+file_name[ii]+\"and\"+str(n_steps[jj])+\"_lorl\")[0] \n",
    "                    for jj in range(7)])\n",
    "end = time.time()\n",
    "print(end - start)"
   ]
  },
  {
   "cell_type": "code",
   "execution_count": 40,
   "metadata": {},
   "outputs": [
    {
     "data": {
      "image/png": "[encoded data removed]",
      "text/plain": [
       "<matplotlib.figure.Figure at 0x1a136fc978>"
      ]
     },
     "metadata": {},
     "output_type": "display_data"
    }
   ],
   "source": [
    "# figure\n",
    "kl_list = np.transpose(kl_list_lorl)\n",
    "vmin, vmax = .02, .1\n",
    "fig, axes = plt.subplots(2,2)\n",
    "axes[0,0].imshow(np.transpose(kl_list[0])[::-1], vmin=vmin, vmax=vmax, cmap='Blues')\n",
    "\n",
    "axes[0,1].imshow(np.transpose(kl_list[1])[::-1], vmin=vmin, vmax=vmax, cmap='Blues')\n",
    "\n",
    "axes[1,0].imshow(np.transpose(kl_list[2])[::-1], vmin=vmin, vmax=vmax, cmap='Blues')\n",
    "\n",
    "im = axes[1,1].imshow(np.transpose(kl_list[0]+kl_list[1]+kl_list[2])[::-1], vmin=vmin, vmax=vmax, cmap='Blues')\n",
    "\n",
    "[(a.set_xticks(np.arange(7)),\n",
    "  a.set_yticks(np.arange(10)),\n",
    "  a.set_xticklabels([\"  1\",\"  3\",\" 10\",\" 30\",\" 100\",\" 200\",\" 300\"], fontsize=7),\n",
    "  a.set_yticklabels([\"1\",\"0.3\",\"0.1\",\"0.03\",\"0.01\",\"0.003\",\"0.001\",\"0.0003\",\"0.0001\",\"0\"], fontsize=7),\n",
    "  plt.setp(a.get_xticklabels(), rotation=90, ha=\"right\", rotation_mode=\"anchor\"), \n",
    "  a.set_xlabel(\"n_step\"), \n",
    "  a.set_ylabel(\"mu_1\")) for a in [axes[0,0],axes[0,1],axes[1,0],axes[1,1]]]\n",
    "\n",
    "axes[0,0].set_title(\"Week 1\")\n",
    "axes[0,1].set_title(\"Week 2\")\n",
    "axes[1,0].set_title(\"Week 3\")\n",
    "axes[1,1].set_title(\"All weeks\")\n",
    "\n",
    "fig.tight_layout()\n",
    "\n",
    "fig.colorbar(im, ax=axes.ravel().tolist(), shrink=0.5)\n",
    "\n",
    "#plt.savefig('lorl_heatmap.eps' ,  bbox_inches='tight' , format='eps', dpi=400)\n",
    "plt.savefig('lorl_heatmap.png' ,  bbox_inches='tight' , format='eps', dpi=400)\n",
    "plt.show()"
   ]
  },
  {
   "cell_type": "code",
   "execution_count": 48,
   "metadata": {},
   "outputs": [
    {
     "data": {
      "text/plain": [
       "42.69736614492204"
      ]
     },
     "execution_count": 48,
     "metadata": {},
     "output_type": "execute_result"
    }
   ],
   "source": [
    "(72.62473487854004+81.08578324317932)*1000/60/60"
   ]
  },
  {
   "cell_type": "code",
   "execution_count": null,
   "metadata": {},
   "outputs": [],
   "source": []
  }
 ],
 "metadata": {
  "kernelspec": {
   "display_name": "Python 3",
   "language": "python",
   "name": "python3"
  },
  "language_info": {
   "codemirror_mode": {
    "name": "ipython",
    "version": 3
   },
   "file_extension": ".py",
   "mimetype": "text/x-python",
   "name": "python",
   "nbconvert_exporter": "python",
   "pygments_lexer": "ipython3",
   "version": "3.6.3"
  }
 },
 "nbformat": 4,
 "nbformat_minor": 2
}
